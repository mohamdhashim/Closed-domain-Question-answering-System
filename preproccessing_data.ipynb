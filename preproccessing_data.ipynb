{
 "cells": [
  {
   "cell_type": "markdown",
   "metadata": {
    "id": "xRX9xFUwVkjg"
   },
   "source": [
    "#Import dependecies"
   ]
  },
  {
   "cell_type": "code",
   "execution_count": 1,
   "metadata": {
    "id": "iPx56eNtUcEb"
   },
   "outputs": [],
   "source": [
    "from bs4 import BeautifulSoup\n",
    "import pandas as pd\n",
    "import nltk                                # Python library for NLP\n",
    "import re\n",
    "import matplotlib.pyplot as plt\n",
    "import time"
   ]
  },
  {
   "cell_type": "code",
   "execution_count": 2,
   "metadata": {
    "colab": {
     "base_uri": "https://localhost:8080/",
     "height": 17
    },
    "id": "9A6p7OLSOLZ7",
    "outputId": "544c10a6-ccab-4921-c95b-faac2536dd76"
   },
   "outputs": [],
   "source": [
    "# #iplot imports and config\n",
    "# import cufflinks as cf\n",
    "# cf.go_offline()\n",
    "# cf.set_config_file(offline=False, world_readable=True)\n",
    "# import plotly.io as pio\n",
    "# pio.renderers.default = 'colab'"
   ]
  },
  {
   "cell_type": "code",
   "execution_count": 3,
   "metadata": {
    "colab": {
     "base_uri": "https://localhost:8080/"
    },
    "id": "OUbdsYzNdwpN",
    "outputId": "913a5dcd-a89f-4487-a011-375a98027702"
   },
   "outputs": [
    {
     "name": "stdout",
     "output_type": "stream",
     "text": [
      "CPU times: user 7.01 s, sys: 389 ms, total: 7.4 s\n",
      "Wall time: 7.39 s\n"
     ]
    }
   ],
   "source": [
    "%%time\n",
    "ques = pd.read_csv(\"data/Questions.csv\",encoding = \"ISO-8859-1\")"
   ]
  },
  {
   "cell_type": "code",
   "execution_count": 4,
   "metadata": {
    "colab": {
     "base_uri": "https://localhost:8080/",
     "height": 348
    },
    "id": "6Vs-IIIzMm7f",
    "outputId": "cbdee4c6-a6fc-480b-cd66-8982a365c093"
   },
   "outputs": [
    {
     "data": {
      "text/html": [
       "<div>\n",
       "<style scoped>\n",
       "    .dataframe tbody tr th:only-of-type {\n",
       "        vertical-align: middle;\n",
       "    }\n",
       "\n",
       "    .dataframe tbody tr th {\n",
       "        vertical-align: top;\n",
       "    }\n",
       "\n",
       "    .dataframe thead th {\n",
       "        text-align: right;\n",
       "    }\n",
       "</style>\n",
       "<table border=\"1\" class=\"dataframe\">\n",
       "  <thead>\n",
       "    <tr style=\"text-align: right;\">\n",
       "      <th></th>\n",
       "      <th>Id</th>\n",
       "      <th>OwnerUserId</th>\n",
       "      <th>CreationDate</th>\n",
       "      <th>Score</th>\n",
       "      <th>Title</th>\n",
       "      <th>Body</th>\n",
       "    </tr>\n",
       "  </thead>\n",
       "  <tbody>\n",
       "    <tr>\n",
       "      <th>0</th>\n",
       "      <td>469</td>\n",
       "      <td>147.0</td>\n",
       "      <td>2008-08-02T15:11:16Z</td>\n",
       "      <td>21</td>\n",
       "      <td>How can I find the full path to a font from it...</td>\n",
       "      <td>&lt;p&gt;I am using the Photoshop's javascript API t...</td>\n",
       "    </tr>\n",
       "    <tr>\n",
       "      <th>1</th>\n",
       "      <td>502</td>\n",
       "      <td>147.0</td>\n",
       "      <td>2008-08-02T17:01:58Z</td>\n",
       "      <td>27</td>\n",
       "      <td>Get a preview JPEG of a PDF on Windows?</td>\n",
       "      <td>&lt;p&gt;I have a cross-platform (Python) applicatio...</td>\n",
       "    </tr>\n",
       "    <tr>\n",
       "      <th>2</th>\n",
       "      <td>535</td>\n",
       "      <td>154.0</td>\n",
       "      <td>2008-08-02T18:43:54Z</td>\n",
       "      <td>40</td>\n",
       "      <td>Continuous Integration System for a Python Cod...</td>\n",
       "      <td>&lt;p&gt;I'm starting work on a hobby project with a...</td>\n",
       "    </tr>\n",
       "    <tr>\n",
       "      <th>3</th>\n",
       "      <td>594</td>\n",
       "      <td>116.0</td>\n",
       "      <td>2008-08-03T01:15:08Z</td>\n",
       "      <td>25</td>\n",
       "      <td>cx_Oracle: How do I iterate over a result set?</td>\n",
       "      <td>&lt;p&gt;There are several ways to iterate over a re...</td>\n",
       "    </tr>\n",
       "    <tr>\n",
       "      <th>4</th>\n",
       "      <td>683</td>\n",
       "      <td>199.0</td>\n",
       "      <td>2008-08-03T13:19:16Z</td>\n",
       "      <td>28</td>\n",
       "      <td>Using 'in' to match an attribute of Python obj...</td>\n",
       "      <td>&lt;p&gt;I don't remember whether I was dreaming or ...</td>\n",
       "    </tr>\n",
       "    <tr>\n",
       "      <th>5</th>\n",
       "      <td>742</td>\n",
       "      <td>189.0</td>\n",
       "      <td>2008-08-03T15:55:28Z</td>\n",
       "      <td>30</td>\n",
       "      <td>Class views in Django</td>\n",
       "      <td>&lt;p&gt;&lt;a href=\"http://www.djangoproject.com/\"&gt;Dja...</td>\n",
       "    </tr>\n",
       "    <tr>\n",
       "      <th>6</th>\n",
       "      <td>766</td>\n",
       "      <td>1384652.0</td>\n",
       "      <td>2008-08-03T17:44:07Z</td>\n",
       "      <td>20</td>\n",
       "      <td>Python and MySQL</td>\n",
       "      <td>&lt;p&gt;I can get Python to work with Postgresql bu...</td>\n",
       "    </tr>\n",
       "    <tr>\n",
       "      <th>7</th>\n",
       "      <td>773</td>\n",
       "      <td>207.0</td>\n",
       "      <td>2008-08-03T18:27:09Z</td>\n",
       "      <td>256</td>\n",
       "      <td>How do I use Python's itertools.groupby()?</td>\n",
       "      <td>&lt;p&gt;I haven't been able to find an understandab...</td>\n",
       "    </tr>\n",
       "    <tr>\n",
       "      <th>8</th>\n",
       "      <td>972</td>\n",
       "      <td>145.0</td>\n",
       "      <td>2008-08-04T02:17:51Z</td>\n",
       "      <td>364</td>\n",
       "      <td>Adding a Method to an Existing Object Instance</td>\n",
       "      <td>&lt;p&gt;I've read that it is possible to add a meth...</td>\n",
       "    </tr>\n",
       "    <tr>\n",
       "      <th>9</th>\n",
       "      <td>1476</td>\n",
       "      <td>92.0</td>\n",
       "      <td>2008-08-04T18:20:36Z</td>\n",
       "      <td>251</td>\n",
       "      <td>How do you express binary literals in Python?</td>\n",
       "      <td>&lt;p&gt;How do you express an integer as a binary n...</td>\n",
       "    </tr>\n",
       "  </tbody>\n",
       "</table>\n",
       "</div>"
      ],
      "text/plain": [
       "     Id  OwnerUserId          CreationDate  Score  \\\n",
       "0   469        147.0  2008-08-02T15:11:16Z     21   \n",
       "1   502        147.0  2008-08-02T17:01:58Z     27   \n",
       "2   535        154.0  2008-08-02T18:43:54Z     40   \n",
       "3   594        116.0  2008-08-03T01:15:08Z     25   \n",
       "4   683        199.0  2008-08-03T13:19:16Z     28   \n",
       "5   742        189.0  2008-08-03T15:55:28Z     30   \n",
       "6   766    1384652.0  2008-08-03T17:44:07Z     20   \n",
       "7   773        207.0  2008-08-03T18:27:09Z    256   \n",
       "8   972        145.0  2008-08-04T02:17:51Z    364   \n",
       "9  1476         92.0  2008-08-04T18:20:36Z    251   \n",
       "\n",
       "                                               Title  \\\n",
       "0  How can I find the full path to a font from it...   \n",
       "1            Get a preview JPEG of a PDF on Windows?   \n",
       "2  Continuous Integration System for a Python Cod...   \n",
       "3     cx_Oracle: How do I iterate over a result set?   \n",
       "4  Using 'in' to match an attribute of Python obj...   \n",
       "5                              Class views in Django   \n",
       "6                                   Python and MySQL   \n",
       "7         How do I use Python's itertools.groupby()?   \n",
       "8     Adding a Method to an Existing Object Instance   \n",
       "9      How do you express binary literals in Python?   \n",
       "\n",
       "                                                Body  \n",
       "0  <p>I am using the Photoshop's javascript API t...  \n",
       "1  <p>I have a cross-platform (Python) applicatio...  \n",
       "2  <p>I'm starting work on a hobby project with a...  \n",
       "3  <p>There are several ways to iterate over a re...  \n",
       "4  <p>I don't remember whether I was dreaming or ...  \n",
       "5  <p><a href=\"http://www.djangoproject.com/\">Dja...  \n",
       "6  <p>I can get Python to work with Postgresql bu...  \n",
       "7  <p>I haven't been able to find an understandab...  \n",
       "8  <p>I've read that it is possible to add a meth...  \n",
       "9  <p>How do you express an integer as a binary n...  "
      ]
     },
     "execution_count": 4,
     "metadata": {},
     "output_type": "execute_result"
    }
   ],
   "source": [
    "ques.head(10)"
   ]
  },
  {
   "cell_type": "code",
   "execution_count": 5,
   "metadata": {
    "id": "T7lfgoj4FCzQ"
   },
   "outputs": [],
   "source": [
    "def split_html(html_string):\n",
    "  \"\"\"\n",
    "    input:\n",
    "      html_string (HTML string representing question body or answer body)\n",
    "    return:\n",
    "      tuple(text,code)\n",
    "      text:text without the code(String)\n",
    "      code:list of codeblocks(list)\n",
    "  \"\"\"\n",
    "  bs = BeautifulSoup(html_string,\"html.parser\")\n",
    "  code_list = [code_block.extract().get_text() for code_block in bs.find_all(\"code\")]\n",
    "  return bs.get_text(),code_list"
   ]
  },
  {
   "cell_type": "markdown",
   "metadata": {
    "id": "F7Wtz6QPuoAN"
   },
   "source": [
    "### Great example\n",
    "There is a great example showing our first problem when splitting\n",
    "take a look at this answer https://stackoverflow.com/a/595  \n",
    "The following code show the same answer in our dataset\n",
    "before spliting the code and text and after.  \n",
    "\n",
    "The problem is that an answer in stack-overflow most like be splited into more than one paragraph.  \n",
    "most likely the structure of one answer will something like this:-  \n",
    "-explantion block  \n",
    "-code block  \n",
    "-explantion block  \n",
    "-code block  \n",
    "-explantion block  \n",
    "-code block  \n",
    "\n",
    "if we concatenate the text togther without code, i think(personal opinion) we will lose the meaning.  \n",
    "if we merged diff codeblock into one codeblock,we may have syntax error.  \n",
    "I will leave this for now and move on to the rest of the notebook."
   ]
  },
  {
   "cell_type": "code",
   "execution_count": 6,
   "metadata": {
    "colab": {
     "base_uri": "https://localhost:8080/"
    },
    "id": "HxlANs0_inno",
    "outputId": "bcf532ef-566e-467f-e684-ee15beff1421"
   },
   "outputs": [
    {
     "name": "stdout",
     "output_type": "stream",
     "text": [
      "before splitting:-\n",
      " <p><a href=\"http://www.djangoproject.com/\">Django</a> view points to a function, which can be a problem if you want to change only a bit of functionality. Yes, I could have million keyword arguments and even more if statements in the function, but I was thinking more of an object oriented approach.</p>\r\n",
      "\r\n",
      "<p>For example, I have a page that displays a user. This page is very similar to page that displays a group, but it's still not so similar to just use another data model. Group also has members etc...</p>\r\n",
      "\r\n",
      "<p>One way would be to point views to class methods and then extend that class. Has anyone tried this approach or has any other idea? </p>\n"
     ]
    }
   ],
   "source": [
    "print(\"before splitting:-\\n\",ques.loc[5,\"Body\"])\n",
    "get_text,get_code = split_html(ques.loc[5,\"Body\"])\n"
   ]
  },
  {
   "cell_type": "code",
   "execution_count": 7,
   "metadata": {
    "colab": {
     "base_uri": "https://localhost:8080/"
    },
    "id": "H3MCPJmwtqzi",
    "outputId": "450d168c-d504-41de-8c45-da84036de8f4"
   },
   "outputs": [
    {
     "name": "stdout",
     "output_type": "stream",
     "text": [
      "Text part after splitting:-\n",
      "\n",
      "\n",
      " Django view points to a function, which can be a problem if you want to change only a bit of functionality. Yes, I could have million keyword arguments and even more if statements in the function, but I was thinking more of an object oriented approach.\n",
      "For example, I have a page that displays a user. This page is very similar to page that displays a group, but it's still not so similar to just use another data model. Group also has members etc...\n",
      "One way would be to point views to class methods and then extend that class. Has anyone tried this approach or has any other idea? \n"
     ]
    }
   ],
   "source": [
    "print(\"Text part after splitting:-\\n\\n\\n\",get_text)"
   ]
  },
  {
   "cell_type": "code",
   "execution_count": 8,
   "metadata": {
    "colab": {
     "base_uri": "https://localhost:8080/"
    },
    "id": "2xVwBXvYmVpa",
    "outputId": "3b968a99-703a-42d9-944b-1fc6f621c5c4"
   },
   "outputs": [
    {
     "name": "stdout",
     "output_type": "stream",
     "text": [
      "code part after splitting:-\n",
      "\n"
     ]
    }
   ],
   "source": [
    "print(\"code part after splitting:-\\n\",*get_code,sep=\"\\n-----------new codeblock-----------\\n\\n\")"
   ]
  },
  {
   "cell_type": "markdown",
   "metadata": {
    "id": "TTKXaddkOIl_"
   },
   "source": [
    "### Split HTML"
   ]
  },
  {
   "cell_type": "code",
   "execution_count": 9,
   "metadata": {
    "colab": {
     "base_uri": "https://localhost:8080/"
    },
    "id": "aC9b5mLuFK8i",
    "outputId": "acf35108-306e-4e27-cdf2-fa44dea28b9b"
   },
   "outputs": [
    {
     "name": "stdout",
     "output_type": "stream",
     "text": [
      "CPU times: user 4min 3s, sys: 501 ms, total: 4min 4s\n",
      "Wall time: 4min 4s\n"
     ]
    }
   ],
   "source": [
    "%%time\n",
    "splitted = ques['Body'].apply(split_html)"
   ]
  },
  {
   "cell_type": "code",
   "execution_count": 10,
   "metadata": {
    "colab": {
     "base_uri": "https://localhost:8080/"
    },
    "id": "XHNGgp0SG9S3",
    "outputId": "45a034d1-0450-4c84-dab0-47855be5e7cc"
   },
   "outputs": [
    {
     "name": "stdout",
     "output_type": "stream",
     "text": [
      "CPU times: user 577 ms, sys: 16 ms, total: 593 ms\n",
      "Wall time: 592 ms\n"
     ]
    }
   ],
   "source": [
    "%%time\n",
    "text = [x[0] for x in splitted]\n",
    "code = [x[1] for x in splitted]\n",
    "ques[\"Text\"]=pd.Series(text)\n",
    "ques[\"Code\"]=pd.Series(code)"
   ]
  },
  {
   "cell_type": "markdown",
   "metadata": {
    "id": "4xfnflNml0Nn"
   },
   "source": [
    "###Remove newlines"
   ]
  },
  {
   "cell_type": "code",
   "execution_count": 11,
   "metadata": {
    "id": "I1-9Hk4SmAUx"
   },
   "outputs": [],
   "source": [
    "def remove_newlines(text):\n",
    "  return re.sub('(\\r\\n)+|\\r+|\\n+', \" \",  text)"
   ]
  },
  {
   "cell_type": "markdown",
   "metadata": {
    "id": "JL43zA1zmJKG"
   },
   "source": [
    "###Normalize"
   ]
  },
  {
   "cell_type": "code",
   "execution_count": 12,
   "metadata": {
    "id": "ykLClT1QmTMt"
   },
   "outputs": [],
   "source": [
    "def normalize(text):\n",
    "  return text.lower()"
   ]
  },
  {
   "cell_type": "markdown",
   "metadata": {
    "id": "rOHltaLOmaBU"
   },
   "source": [
    "###Tokenize"
   ]
  },
  {
   "cell_type": "code",
   "execution_count": 13,
   "metadata": {
    "id": "xH6cXI5pmiV5"
   },
   "outputs": [],
   "source": [
    "def tokenize(text):\n",
    "  #just word splitting for now for under_standing the data\n",
    "  return text.split()"
   ]
  },
  {
   "cell_type": "markdown",
   "metadata": {
    "id": "A8rlL2sFm0aE"
   },
   "source": [
    "###Remove stopwords\n"
   ]
  },
  {
   "cell_type": "code",
   "execution_count": 14,
   "metadata": {
    "colab": {
     "base_uri": "https://localhost:8080/"
    },
    "id": "tbc5q_GonhYR",
    "outputId": "c19d9e48-e245-46c8-9099-de4c0dbb1169"
   },
   "outputs": [
    {
     "name": "stderr",
     "output_type": "stream",
     "text": [
      "[nltk_data] Downloading package stopwords to /home/mohamd/nltk_data...\n",
      "[nltk_data]   Package stopwords is already up-to-date!\n"
     ]
    },
    {
     "data": {
      "text/plain": [
       "True"
      ]
     },
     "execution_count": 14,
     "metadata": {},
     "output_type": "execute_result"
    }
   ],
   "source": [
    "from nltk.corpus import stopwords\n",
    "nltk.download('stopwords')"
   ]
  },
  {
   "cell_type": "code",
   "execution_count": 15,
   "metadata": {
    "id": "-jmif-uPoTyF"
   },
   "outputs": [],
   "source": [
    "stop_words = set(stopwords.words('english'))"
   ]
  },
  {
   "cell_type": "code",
   "execution_count": 16,
   "metadata": {
    "id": "mQImC1Rcoqwj"
   },
   "outputs": [],
   "source": [
    "def remove_stopwords(tokens):\n",
    "  return [w for w in tokens if not w in stop_words] "
   ]
  },
  {
   "cell_type": "markdown",
   "metadata": {
    "id": "Q7tjJZpZeOFF"
   },
   "source": [
    "###Clean Text and Code"
   ]
  },
  {
   "cell_type": "code",
   "execution_count": 17,
   "metadata": {
    "id": "0ePV8bezgv9Z"
   },
   "outputs": [],
   "source": [
    "def clean_text(text):\n",
    "    return remove_stopwords(tokenize(normalize(remove_newlines(text))))"
   ]
  },
  {
   "cell_type": "code",
   "execution_count": 18,
   "metadata": {
    "id": "3aaV34sKyAXn"
   },
   "outputs": [],
   "source": [
    "def clean_code(code):\n",
    "  return tokenize(code)"
   ]
  },
  {
   "cell_type": "markdown",
   "metadata": {
    "id": "YGvlQcZ93uLO"
   },
   "source": [
    "###Process Dataset"
   ]
  },
  {
   "cell_type": "code",
   "execution_count": null,
   "metadata": {
    "colab": {
     "base_uri": "https://localhost:8080/"
    },
    "id": "Bi-j5ChKCrtx",
    "outputId": "d8016b0e-c190-4720-d839-9c627f6f104d"
   },
   "outputs": [],
   "source": [
    "%%time\n",
    "ques[\"TitleClean\"] = ques[\"Title\"].apply(clean_text)\n",
    "ques[\"TextClean\"] = ques[\"Text\"].apply(clean_text)\n",
    "ques[\"CodeClean\"] = ques[\"Code\"].apply(lambda lst:[ clean_code(code) for code in lst])\n",
    "\n"
   ]
  },
  {
   "cell_type": "code",
   "execution_count": 19,
   "metadata": {},
   "outputs": [
    {
     "data": {
      "text/html": [
       "<div>\n",
       "<style scoped>\n",
       "    .dataframe tbody tr th:only-of-type {\n",
       "        vertical-align: middle;\n",
       "    }\n",
       "\n",
       "    .dataframe tbody tr th {\n",
       "        vertical-align: top;\n",
       "    }\n",
       "\n",
       "    .dataframe thead th {\n",
       "        text-align: right;\n",
       "    }\n",
       "</style>\n",
       "<table border=\"1\" class=\"dataframe\">\n",
       "  <thead>\n",
       "    <tr style=\"text-align: right;\">\n",
       "      <th></th>\n",
       "      <th>Id</th>\n",
       "      <th>OwnerUserId</th>\n",
       "      <th>CreationDate</th>\n",
       "      <th>Score</th>\n",
       "      <th>Title</th>\n",
       "      <th>Body</th>\n",
       "      <th>Text</th>\n",
       "      <th>Code</th>\n",
       "    </tr>\n",
       "  </thead>\n",
       "  <tbody>\n",
       "    <tr>\n",
       "      <th>0</th>\n",
       "      <td>469</td>\n",
       "      <td>147.0</td>\n",
       "      <td>2008-08-02T15:11:16Z</td>\n",
       "      <td>21</td>\n",
       "      <td>How can I find the full path to a font from it...</td>\n",
       "      <td>&lt;p&gt;I am using the Photoshop's javascript API t...</td>\n",
       "      <td>I am using the Photoshop's javascript API to f...</td>\n",
       "      <td>[]</td>\n",
       "    </tr>\n",
       "    <tr>\n",
       "      <th>1</th>\n",
       "      <td>502</td>\n",
       "      <td>147.0</td>\n",
       "      <td>2008-08-02T17:01:58Z</td>\n",
       "      <td>27</td>\n",
       "      <td>Get a preview JPEG of a PDF on Windows?</td>\n",
       "      <td>&lt;p&gt;I have a cross-platform (Python) applicatio...</td>\n",
       "      <td>I have a cross-platform (Python) application w...</td>\n",
       "      <td>[]</td>\n",
       "    </tr>\n",
       "    <tr>\n",
       "      <th>2</th>\n",
       "      <td>535</td>\n",
       "      <td>154.0</td>\n",
       "      <td>2008-08-02T18:43:54Z</td>\n",
       "      <td>40</td>\n",
       "      <td>Continuous Integration System for a Python Cod...</td>\n",
       "      <td>&lt;p&gt;I'm starting work on a hobby project with a...</td>\n",
       "      <td>I'm starting work on a hobby project with a py...</td>\n",
       "      <td>[]</td>\n",
       "    </tr>\n",
       "    <tr>\n",
       "      <th>3</th>\n",
       "      <td>594</td>\n",
       "      <td>116.0</td>\n",
       "      <td>2008-08-03T01:15:08Z</td>\n",
       "      <td>25</td>\n",
       "      <td>cx_Oracle: How do I iterate over a result set?</td>\n",
       "      <td>&lt;p&gt;There are several ways to iterate over a re...</td>\n",
       "      <td>There are several ways to iterate over a resul...</td>\n",
       "      <td>[]</td>\n",
       "    </tr>\n",
       "    <tr>\n",
       "      <th>4</th>\n",
       "      <td>683</td>\n",
       "      <td>199.0</td>\n",
       "      <td>2008-08-03T13:19:16Z</td>\n",
       "      <td>28</td>\n",
       "      <td>Using 'in' to match an attribute of Python obj...</td>\n",
       "      <td>&lt;p&gt;I don't remember whether I was dreaming or ...</td>\n",
       "      <td>I don't remember whether I was dreaming or not...</td>\n",
       "      <td>[foo in iter_attr(array of python objects, att...</td>\n",
       "    </tr>\n",
       "  </tbody>\n",
       "</table>\n",
       "</div>"
      ],
      "text/plain": [
       "    Id  OwnerUserId          CreationDate  Score  \\\n",
       "0  469        147.0  2008-08-02T15:11:16Z     21   \n",
       "1  502        147.0  2008-08-02T17:01:58Z     27   \n",
       "2  535        154.0  2008-08-02T18:43:54Z     40   \n",
       "3  594        116.0  2008-08-03T01:15:08Z     25   \n",
       "4  683        199.0  2008-08-03T13:19:16Z     28   \n",
       "\n",
       "                                               Title  \\\n",
       "0  How can I find the full path to a font from it...   \n",
       "1            Get a preview JPEG of a PDF on Windows?   \n",
       "2  Continuous Integration System for a Python Cod...   \n",
       "3     cx_Oracle: How do I iterate over a result set?   \n",
       "4  Using 'in' to match an attribute of Python obj...   \n",
       "\n",
       "                                                Body  \\\n",
       "0  <p>I am using the Photoshop's javascript API t...   \n",
       "1  <p>I have a cross-platform (Python) applicatio...   \n",
       "2  <p>I'm starting work on a hobby project with a...   \n",
       "3  <p>There are several ways to iterate over a re...   \n",
       "4  <p>I don't remember whether I was dreaming or ...   \n",
       "\n",
       "                                                Text  \\\n",
       "0  I am using the Photoshop's javascript API to f...   \n",
       "1  I have a cross-platform (Python) application w...   \n",
       "2  I'm starting work on a hobby project with a py...   \n",
       "3  There are several ways to iterate over a resul...   \n",
       "4  I don't remember whether I was dreaming or not...   \n",
       "\n",
       "                                                Code  \n",
       "0                                                 []  \n",
       "1                                                 []  \n",
       "2                                                 []  \n",
       "3                                                 []  \n",
       "4  [foo in iter_attr(array of python objects, att...  "
      ]
     },
     "execution_count": 19,
     "metadata": {},
     "output_type": "execute_result"
    }
   ],
   "source": [
    "ques.head()"
   ]
  },
  {
   "cell_type": "code",
   "execution_count": 21,
   "metadata": {
    "colab": {
     "base_uri": "https://localhost:8080/",
     "height": 197
    },
    "id": "cK_1qXhmIrNd",
    "outputId": "ab87137e-68b3-482c-d3dc-2220d4f0e830"
   },
   "outputs": [
    {
     "data": {
      "text/html": [
       "<div>\n",
       "<style scoped>\n",
       "    .dataframe tbody tr th:only-of-type {\n",
       "        vertical-align: middle;\n",
       "    }\n",
       "\n",
       "    .dataframe tbody tr th {\n",
       "        vertical-align: top;\n",
       "    }\n",
       "\n",
       "    .dataframe thead th {\n",
       "        text-align: right;\n",
       "    }\n",
       "</style>\n",
       "<table border=\"1\" class=\"dataframe\">\n",
       "  <thead>\n",
       "    <tr style=\"text-align: right;\">\n",
       "      <th></th>\n",
       "      <th>Title</th>\n",
       "      <th>Body</th>\n",
       "      <th>Text</th>\n",
       "      <th>Code</th>\n",
       "    </tr>\n",
       "  </thead>\n",
       "  <tbody>\n",
       "    <tr>\n",
       "      <th>0</th>\n",
       "      <td>How can I find the full path to a font from it...</td>\n",
       "      <td>&lt;p&gt;I am using the Photoshop's javascript API t...</td>\n",
       "      <td>I am using the Photoshop's javascript API to f...</td>\n",
       "      <td>[]</td>\n",
       "    </tr>\n",
       "    <tr>\n",
       "      <th>1</th>\n",
       "      <td>Get a preview JPEG of a PDF on Windows?</td>\n",
       "      <td>&lt;p&gt;I have a cross-platform (Python) applicatio...</td>\n",
       "      <td>I have a cross-platform (Python) application w...</td>\n",
       "      <td>[]</td>\n",
       "    </tr>\n",
       "    <tr>\n",
       "      <th>2</th>\n",
       "      <td>Continuous Integration System for a Python Cod...</td>\n",
       "      <td>&lt;p&gt;I'm starting work on a hobby project with a...</td>\n",
       "      <td>I'm starting work on a hobby project with a py...</td>\n",
       "      <td>[]</td>\n",
       "    </tr>\n",
       "    <tr>\n",
       "      <th>3</th>\n",
       "      <td>cx_Oracle: How do I iterate over a result set?</td>\n",
       "      <td>&lt;p&gt;There are several ways to iterate over a re...</td>\n",
       "      <td>There are several ways to iterate over a resul...</td>\n",
       "      <td>[]</td>\n",
       "    </tr>\n",
       "    <tr>\n",
       "      <th>4</th>\n",
       "      <td>Using 'in' to match an attribute of Python obj...</td>\n",
       "      <td>&lt;p&gt;I don't remember whether I was dreaming or ...</td>\n",
       "      <td>I don't remember whether I was dreaming or not...</td>\n",
       "      <td>[foo in iter_attr(array of python objects, att...</td>\n",
       "    </tr>\n",
       "  </tbody>\n",
       "</table>\n",
       "</div>"
      ],
      "text/plain": [
       "                                               Title  \\\n",
       "0  How can I find the full path to a font from it...   \n",
       "1            Get a preview JPEG of a PDF on Windows?   \n",
       "2  Continuous Integration System for a Python Cod...   \n",
       "3     cx_Oracle: How do I iterate over a result set?   \n",
       "4  Using 'in' to match an attribute of Python obj...   \n",
       "\n",
       "                                                Body  \\\n",
       "0  <p>I am using the Photoshop's javascript API t...   \n",
       "1  <p>I have a cross-platform (Python) applicatio...   \n",
       "2  <p>I'm starting work on a hobby project with a...   \n",
       "3  <p>There are several ways to iterate over a re...   \n",
       "4  <p>I don't remember whether I was dreaming or ...   \n",
       "\n",
       "                                                Text  \\\n",
       "0  I am using the Photoshop's javascript API to f...   \n",
       "1  I have a cross-platform (Python) application w...   \n",
       "2  I'm starting work on a hobby project with a py...   \n",
       "3  There are several ways to iterate over a resul...   \n",
       "4  I don't remember whether I was dreaming or not...   \n",
       "\n",
       "                                                Code  \n",
       "0                                                 []  \n",
       "1                                                 []  \n",
       "2                                                 []  \n",
       "3                                                 []  \n",
       "4  [foo in iter_attr(array of python objects, att...  "
      ]
     },
     "execution_count": 21,
     "metadata": {},
     "output_type": "execute_result"
    }
   ],
   "source": [
    "\n",
    "que = ques.drop([\"CreationDate\",\"OwnerUserId\",\"Id\",\"Score\"],axis=1)\n",
    "que.head()"
   ]
  },
  {
   "cell_type": "markdown",
   "metadata": {
    "id": "pp0xmjvUq_kg"
   },
   "source": [
    "##Save preprocessed dataset"
   ]
  },
  {
   "cell_type": "code",
   "execution_count": 23,
   "metadata": {
    "id": "M1zth141TT_U"
   },
   "outputs": [],
   "source": [
    "#save preprocessed questions data\n",
    "que.to_pickle(\"./Que.pkl\")"
   ]
  },
  {
   "cell_type": "markdown",
   "metadata": {
    "id": "I1leFJdcrzuT"
   },
   "source": [
    "#Load PreProcessed Data"
   ]
  },
  {
   "cell_type": "code",
   "execution_count": null,
   "metadata": {
    "id": "OQaO34_qr5ba"
   },
   "outputs": [],
   "source": [
    "#load PreProcessed data\n",
    "ques = pd.read_pickle(\"./Ques.pkl\")\n",
    "ans = pd.read_pickle(\"./Ans.pkl\")\n",
    "tags = pd.read_pickle(\"./Tags.pkl\")"
   ]
  },
  {
   "cell_type": "markdown",
   "metadata": {
    "id": "8NJlU9LwPEH0"
   },
   "source": [
    "# Statistics\n"
   ]
  },
  {
   "cell_type": "code",
   "execution_count": null,
   "metadata": {
    "id": "1ah-ucpqvK-F"
   },
   "outputs": [],
   "source": [
    "pd.set_option('display.max_colwidth', None)"
   ]
  },
  {
   "cell_type": "markdown",
   "metadata": {
    "id": "kCjEdkNsb8aP"
   },
   "source": [
    "##General methods"
   ]
  },
  {
   "cell_type": "markdown",
   "metadata": {
    "id": "9sZmcWU4s8tU"
   },
   "source": [
    "###N-Grams"
   ]
  },
  {
   "cell_type": "code",
   "execution_count": null,
   "metadata": {
    "id": "Sm_Arjun-m7y"
   },
   "outputs": [],
   "source": [
    "def n_gram(n,pandas_series,top_k=20):\n",
    "  \"\"\"\n",
    "  input:\n",
    "    n => n-grams\n",
    "    tok_k => top k occurence of n-gram\n",
    "    panda_series => panda_column to get n-gram (each row is a list)\n",
    "  return:\n",
    "      ngram => top k most occured n-gram(pandas_series)\n",
    "  \"\"\"\n",
    "  grams =[]\n",
    "  for i,rw in pandas_series.items():\n",
    "    grams.extend(nltk.ngrams(rw, n))\n",
    "    #if i%100000==0:\n",
    "     # print(\"{0:.2g}% completed\".format(i/pandas_series.shape[0]*100))\n",
    "  return (pd.Series(grams).value_counts())[:top_k]\n",
    "  "
   ]
  },
  {
   "cell_type": "code",
   "execution_count": null,
   "metadata": {
    "id": "Yk13cO7nX55X"
   },
   "outputs": [],
   "source": [
    "def plot_ngram_hist(most_occurence_ngram_series):\n",
    "  \"\"\"\n",
    "  input:\n",
    "    most_occurence_ngram_series =>most occured ngram(pandas_series)\n",
    "  return(void)\n",
    "    plot n-gram histogram\n",
    "  \"\"\"\n",
    "  #len of n-gram\n",
    "  n = len(most_occurence_ngram_series.first_valid_index())\n",
    "  most_occurence_ngram_series.sort_values().plot.barh(color='blue', width=.9, figsize=(12, 8))\n",
    "  plt.title('{} Most Frequently Occuring {}-grams'.format(most_occurence_ngram_series.shape[0],n))\n",
    "  plt.ylabel('{}-gram'.format(n))\n",
    "  plt.xlabel('# of Occurances')  "
   ]
  },
  {
   "cell_type": "markdown",
   "metadata": {
    "id": "LDb_jkDcvrI9"
   },
   "source": [
    "##Questions statistics"
   ]
  },
  {
   "cell_type": "markdown",
   "metadata": {
    "id": "LdbhABjwx7bJ"
   },
   "source": [
    "###Questions Title statistics"
   ]
  },
  {
   "cell_type": "code",
   "execution_count": null,
   "metadata": {
    "colab": {
     "base_uri": "https://localhost:8080/",
     "height": 548
    },
    "id": "NF9jpe9EVZBa",
    "outputId": "4b9d80d4-b5bb-4c7a-c96f-dac58c781600"
   },
   "outputs": [],
   "source": [
    "#1-grams\n",
    "%%time\n",
    "top_grams = n_gram(1,ques[\"TitleClean\"])\n",
    "plot_ngram_hist(top_grams)"
   ]
  },
  {
   "cell_type": "code",
   "execution_count": null,
   "metadata": {
    "id": "-wobUN3cJXSs"
   },
   "outputs": [],
   "source": [
    "#2-grams\n",
    "%%time\n",
    "top_grams = n_gram(2,ques[\"TitleClean\"])\n",
    "plot_ngram_hist(top_grams)"
   ]
  },
  {
   "cell_type": "code",
   "execution_count": null,
   "metadata": {
    "colab": {
     "base_uri": "https://localhost:8080/",
     "height": 548
    },
    "id": "YW--OvlWJwVg",
    "outputId": "eef4c8e6-a678-47bd-ead9-2df572fb30d2"
   },
   "outputs": [],
   "source": [
    "#3-grams\n",
    "%%time\n",
    "top_grams = n_gram(3,ques[\"TitleClean\"])\n",
    "plot_ngram_hist(top_grams)"
   ]
  },
  {
   "cell_type": "code",
   "execution_count": null,
   "metadata": {
    "colab": {
     "base_uri": "https://localhost:8080/",
     "height": 548
    },
    "id": "CgAAgCmbJ4D2",
    "outputId": "bcd6124b-6813-4ed5-b915-75763be48bca"
   },
   "outputs": [],
   "source": [
    "#4-grams\n",
    "%%time\n",
    "top_grams = n_gram(4,ques[\"TitleClean\"])\n",
    "plot_ngram_hist(top_grams)"
   ]
  },
  {
   "cell_type": "code",
   "execution_count": null,
   "metadata": {
    "colab": {
     "base_uri": "https://localhost:8080/"
    },
    "id": "ec-CijvIn74_",
    "outputId": "49e9de68-9b05-4bfd-d3b4-da59cac8006c"
   },
   "outputs": [],
   "source": [
    "print(\"number of Questions :\" ,ques.shape[0])"
   ]
  },
  {
   "cell_type": "code",
   "execution_count": null,
   "metadata": {
    "id": "eyKwlslcsJoV"
   },
   "outputs": [],
   "source": [
    "ques[\"TitleLen\"]= ques[\"TitleClean\"].apply(len)"
   ]
  },
  {
   "cell_type": "code",
   "execution_count": null,
   "metadata": {
    "colab": {
     "base_uri": "https://localhost:8080/",
     "height": 542
    },
    "id": "9hpsSktPMt9s",
    "outputId": "e44e3340-48ff-4dcc-9e15-20d0b6e962cd"
   },
   "outputs": [],
   "source": [
    "ques[\"TitleLen\"].iplot(\n",
    "    kind='hist',\n",
    "    bins=50,\n",
    "    xTitle='Number of words in Title',\n",
    "    linecolor='black',\n",
    "    yTitle='count',\n",
    "    title='Number of words in Title')"
   ]
  },
  {
   "cell_type": "code",
   "execution_count": null,
   "metadata": {
    "colab": {
     "base_uri": "https://localhost:8080/"
    },
    "id": "GahVAgdf40q0",
    "outputId": "6cbd9de8-a603-4a31-9689-610e5c571963"
   },
   "outputs": [],
   "source": [
    "print(\"Mean of word in Title \",ques[\"TitleLen\"].mean())"
   ]
  },
  {
   "cell_type": "code",
   "execution_count": null,
   "metadata": {
    "colab": {
     "base_uri": "https://localhost:8080/"
    },
    "id": "o7op0r2YLOzJ",
    "outputId": "3e53623b-998b-4c25-a167-624d4779934b"
   },
   "outputs": [],
   "source": [
    "print(\"Min of word in Title \",ques[\"TitleLen\"].min())"
   ]
  },
  {
   "cell_type": "code",
   "execution_count": null,
   "metadata": {
    "colab": {
     "base_uri": "https://localhost:8080/"
    },
    "id": "b0X5DWT9LlPK",
    "outputId": "715e13b6-0518-4816-b52a-731135b12d81"
   },
   "outputs": [],
   "source": [
    "print(\"Max of word in Title \",ques[\"TitleLen\"].max())"
   ]
  },
  {
   "cell_type": "markdown",
   "metadata": {
    "id": "CvfeAFU5QnLX"
   },
   "source": [
    "###Questions BodyText statistics"
   ]
  },
  {
   "cell_type": "code",
   "execution_count": null,
   "metadata": {
    "colab": {
     "base_uri": "https://localhost:8080/",
     "height": 548
    },
    "id": "iR0fjm-fcIKd",
    "outputId": "57c34fbe-95ce-41e1-da71-e6c301909cc8"
   },
   "outputs": [],
   "source": [
    "#1-grams\n",
    "%%time\n",
    "top_grams = n_gram(1,ques[\"TextClean\"])\n",
    "plot_ngram_hist(top_grams)"
   ]
  },
  {
   "cell_type": "code",
   "execution_count": null,
   "metadata": {
    "colab": {
     "base_uri": "https://localhost:8080/",
     "height": 548
    },
    "id": "Aujvpi9Bcgkk",
    "outputId": "fa293bec-7fb1-4345-910f-e2d1b286ff21"
   },
   "outputs": [],
   "source": [
    "#2-grams\n",
    "%%time\n",
    "top_grams = n_gram(2,ques[\"TextClean\"])\n",
    "plot_ngram_hist(top_grams)"
   ]
  },
  {
   "cell_type": "code",
   "execution_count": null,
   "metadata": {
    "colab": {
     "base_uri": "https://localhost:8080/",
     "height": 548
    },
    "id": "0JFbUMKnclyU",
    "outputId": "b0acaa0d-b8c1-4a09-9b9d-1c92da535e86"
   },
   "outputs": [],
   "source": [
    "#3-grams\n",
    "%%time\n",
    "top_grams = n_gram(3,ques[\"TextClean\"])\n",
    "plot_ngram_hist(top_grams)"
   ]
  },
  {
   "cell_type": "code",
   "execution_count": null,
   "metadata": {
    "id": "dWcGkRUNcxQ5"
   },
   "outputs": [],
   "source": [
    "ques[\"TextLen\"]= ques[\"TextClean\"].apply(len)"
   ]
  },
  {
   "cell_type": "code",
   "execution_count": null,
   "metadata": {
    "colab": {
     "base_uri": "https://localhost:8080/",
     "height": 542
    },
    "id": "4jgH_BxVdHUt",
    "outputId": "4b97db1f-46c4-43ce-ba3e-49adab2d9c49"
   },
   "outputs": [],
   "source": [
    "ques[ques['TextLen']<500]['TextLen'].iplot(\n",
    "    kind='hist',\n",
    "    bins=50,\n",
    "    xTitle='Number of English words in Question Body',\n",
    "    linecolor='black',\n",
    "    yTitle='count',\n",
    "    title='Number of words in Body < 500')"
   ]
  },
  {
   "cell_type": "code",
   "execution_count": null,
   "metadata": {
    "colab": {
     "base_uri": "https://localhost:8080/",
     "height": 542
    },
    "id": "HM98MtSGhgs5",
    "outputId": "bbdebc13-1553-47e0-f6cb-b0d248e61831"
   },
   "outputs": [],
   "source": [
    "ques[ques['TextLen']>500]['TextLen'].iplot(\n",
    "    kind='hist',\n",
    "    bins=100,\n",
    "    xTitle='Number of English words in Question Body',\n",
    "    linecolor='black',\n",
    "    yTitle='count',\n",
    "    title='Number of words in Body >500')"
   ]
  },
  {
   "cell_type": "code",
   "execution_count": null,
   "metadata": {
    "colab": {
     "base_uri": "https://localhost:8080/"
    },
    "id": "bMi6PLAie0pe",
    "outputId": "3d5ab378-7fc6-4c00-ade9-41fc1600c905"
   },
   "outputs": [],
   "source": [
    "print(\"Mean of word in Title \",ques[\"TextLen\"].mean())"
   ]
  },
  {
   "cell_type": "code",
   "execution_count": null,
   "metadata": {
    "colab": {
     "base_uri": "https://localhost:8080/"
    },
    "id": "kBTP0JeLfAl-",
    "outputId": "02e2a68f-7321-4dc7-d661-0838da99b52f"
   },
   "outputs": [],
   "source": [
    "print(\"Min of word in Title \",ques[\"TextLen\"].min())"
   ]
  },
  {
   "cell_type": "code",
   "execution_count": null,
   "metadata": {
    "colab": {
     "base_uri": "https://localhost:8080/"
    },
    "id": "oWxtpo7OfGUk",
    "outputId": "7b8b50f1-86c0-44a1-90f4-fa5f628fe8d9"
   },
   "outputs": [],
   "source": [
    "print(\"Min of word in Title \",ques[\"TextLen\"].max())"
   ]
  },
  {
   "cell_type": "markdown",
   "metadata": {
    "id": "GIZftggRjojT"
   },
   "source": [
    "###Questions Score statistics"
   ]
  },
  {
   "cell_type": "code",
   "execution_count": null,
   "metadata": {
    "colab": {
     "base_uri": "https://localhost:8080/"
    },
    "id": "JBF-oqohkqIC",
    "outputId": "91cb122a-fb2a-4e38-97d8-9682ba30daec"
   },
   "outputs": [],
   "source": [
    "per = ques[ques['Score']<0].shape[0]/ques['Score'].shape[0] *100\n",
    "print(\"persantage of questions with negative score: {0:.2g}%\".format(per))"
   ]
  },
  {
   "cell_type": "code",
   "execution_count": null,
   "metadata": {
    "colab": {
     "base_uri": "https://localhost:8080/"
    },
    "id": "2fgUwLuGjoTh",
    "outputId": "5b073c7f-3c72-4746-9197-210b00c32525"
   },
   "outputs": [],
   "source": [
    "per = ques[(ques['Score']>=0)&(ques['Score']<=5)].shape[0]/ques['Score'].shape[0] *100\n",
    "print(\"persantage of questions with score from 0-5: {0:.2g}%\".format(per))"
   ]
  },
  {
   "cell_type": "code",
   "execution_count": 1,
   "metadata": {
    "colab": {
     "base_uri": "https://localhost:8080/"
    },
    "id": "YUC7-lxEmt-T",
    "outputId": "58e256da-4e09-4e0b-e978-71ddf5db69ba"
   },
   "outputs": [
    {
     "ename": "NameError",
     "evalue": "name 'ques' is not defined",
     "output_type": "error",
     "traceback": [
      "\u001b[0;31m---------------------------------------------------------------------------\u001b[0m",
      "\u001b[0;31mNameError\u001b[0m                                 Traceback (most recent call last)",
      "\u001b[0;32m<ipython-input-1-8917f7be286a>\u001b[0m in \u001b[0;36m<module>\u001b[0;34m\u001b[0m\n\u001b[0;32m----> 1\u001b[0;31m \u001b[0mper\u001b[0m \u001b[0;34m=\u001b[0m \u001b[0mques\u001b[0m\u001b[0;34m[\u001b[0m\u001b[0mques\u001b[0m\u001b[0;34m[\u001b[0m\u001b[0;34m'Score'\u001b[0m\u001b[0;34m]\u001b[0m\u001b[0;34m==\u001b[0m\u001b[0;36m0\u001b[0m\u001b[0;34m]\u001b[0m\u001b[0;34m.\u001b[0m\u001b[0mshape\u001b[0m\u001b[0;34m[\u001b[0m\u001b[0;36m0\u001b[0m\u001b[0;34m]\u001b[0m\u001b[0;34m/\u001b[0m\u001b[0mques\u001b[0m\u001b[0;34m[\u001b[0m\u001b[0;34m'Score'\u001b[0m\u001b[0;34m]\u001b[0m\u001b[0;34m.\u001b[0m\u001b[0mshape\u001b[0m\u001b[0;34m[\u001b[0m\u001b[0;36m0\u001b[0m\u001b[0;34m]\u001b[0m \u001b[0;34m*\u001b[0m\u001b[0;36m100\u001b[0m\u001b[0;34m\u001b[0m\u001b[0;34m\u001b[0m\u001b[0m\n\u001b[0m\u001b[1;32m      2\u001b[0m \u001b[0mprint\u001b[0m\u001b[0;34m(\u001b[0m\u001b[0;34m\"persantage of questions with score equal 0: {0:.2g}%\"\u001b[0m\u001b[0;34m.\u001b[0m\u001b[0mformat\u001b[0m\u001b[0;34m(\u001b[0m\u001b[0mper\u001b[0m\u001b[0;34m)\u001b[0m\u001b[0;34m)\u001b[0m\u001b[0;34m\u001b[0m\u001b[0;34m\u001b[0m\u001b[0m\n",
      "\u001b[0;31mNameError\u001b[0m: name 'ques' is not defined"
     ]
    }
   ],
   "source": [
    "per = ques[ques['Score']==0].shape[0]/ques['Score'].shape[0] *100\n",
    "print(\"persantage of questions with score equal 0: {0:.2g}%\".format(per))"
   ]
  },
  {
   "cell_type": "code",
   "execution_count": 2,
   "metadata": {},
   "outputs": [],
   "source": []
  },
  {
   "cell_type": "code",
   "execution_count": 9,
   "metadata": {},
   "outputs": [],
   "source": [
    "import pickle \n",
    "o = pickle.load(open(\"corrected_words.pkl\", \"rb\"))"
   ]
  },
  {
   "cell_type": "code",
   "execution_count": 8,
   "metadata": {},
   "outputs": [
    {
     "data": {
      "text/plain": [
       "'help'"
      ]
     },
     "execution_count": 8,
     "metadata": {},
     "output_type": "execute_result"
    }
   ],
   "source": []
  },
  {
   "cell_type": "code",
   "execution_count": 3,
   "metadata": {},
   "outputs": [],
   "source": [
    "import pandas as pd\n",
    "df = pd.read_csv(\"CS4.csv\")"
   ]
  },
  {
   "cell_type": "code",
   "execution_count": 5,
   "metadata": {},
   "outputs": [
    {
     "data": {
      "text/html": [
       "<div>\n",
       "<style scoped>\n",
       "    .dataframe tbody tr th:only-of-type {\n",
       "        vertical-align: middle;\n",
       "    }\n",
       "\n",
       "    .dataframe tbody tr th {\n",
       "        vertical-align: top;\n",
       "    }\n",
       "\n",
       "    .dataframe thead th {\n",
       "        text-align: right;\n",
       "    }\n",
       "</style>\n",
       "<table border=\"1\" class=\"dataframe\">\n",
       "  <thead>\n",
       "    <tr style=\"text-align: right;\">\n",
       "      <th></th>\n",
       "      <th>طابع زمني</th>\n",
       "      <th>Name</th>\n",
       "      <th>phone</th>\n",
       "      <th>project Name</th>\n",
       "      <th>E-mail</th>\n",
       "      <th>Academic Supervisor</th>\n",
       "      <th>Assisting Supervisor</th>\n",
       "      <th>Title (your field)</th>\n",
       "      <th>tools</th>\n",
       "    </tr>\n",
       "  </thead>\n",
       "  <tbody>\n",
       "    <tr>\n",
       "      <th>0</th>\n",
       "      <td>2021/07/10 12:20:54 ص غرينتش+2</td>\n",
       "      <td>Mohamed ahmed mousa</td>\n",
       "      <td>1012607079</td>\n",
       "      <td>Tourguide(AR)</td>\n",
       "      <td>NaN</td>\n",
       "      <td>dr:mohamed elzewaidy</td>\n",
       "      <td>eng:esraa ezzat</td>\n",
       "      <td>flutter developer</td>\n",
       "      <td>AR</td>\n",
       "    </tr>\n",
       "    <tr>\n",
       "      <th>1</th>\n",
       "      <td>2021/07/10 12:41:01 ص غرينتش+2</td>\n",
       "      <td>mohamed gamal</td>\n",
       "      <td>1111943712</td>\n",
       "      <td>Tour guide</td>\n",
       "      <td>mohamedgee25@gmail.com</td>\n",
       "      <td>Dr.mohamedelzewaidy</td>\n",
       "      <td>Eng.esraa ezzat</td>\n",
       "      <td>Unity(agmunted reality)</td>\n",
       "      <td>Unity \\nRevit</td>\n",
       "    </tr>\n",
       "  </tbody>\n",
       "</table>\n",
       "</div>"
      ],
      "text/plain": [
       "                        طابع زمني                 Name       phone  \\\n",
       "0  2021/07/10 12:20:54 ص غرينتش+2  Mohamed ahmed mousa  1012607079   \n",
       "1  2021/07/10 12:41:01 ص غرينتش+2        mohamed gamal  1111943712   \n",
       "\n",
       "    project Name                  E-mail   Academic Supervisor  \\\n",
       "0  Tourguide(AR)                     NaN  dr:mohamed elzewaidy   \n",
       "1    Tour guide   mohamedgee25@gmail.com  Dr.mohamedelzewaidy    \n",
       "\n",
       "  Assisting Supervisor       Title (your field)         tools   \n",
       "0      eng:esraa ezzat        flutter developer             AR  \n",
       "1      Eng.esraa ezzat  Unity(agmunted reality)  Unity \\nRevit  "
      ]
     },
     "execution_count": 5,
     "metadata": {},
     "output_type": "execute_result"
    }
   ],
   "source": [
    "df.head()"
   ]
  },
  {
   "cell_type": "code",
   "execution_count": null,
   "metadata": {},
   "outputs": [],
   "source": []
  }
 ],
 "metadata": {
  "colab": {
   "collapsed_sections": [
    "xRX9xFUwVkjg",
    "FgIH3INjWGqw",
    "_tqOuPInkEy7",
    "1vkz2iH1kto6",
    "ugf7e9Yvf1ie",
    "4xfnflNml0Nn",
    "JL43zA1zmJKG",
    "rOHltaLOmaBU",
    "A8rlL2sFm0aE",
    "Q7tjJZpZeOFF"
   ],
   "machine_shape": "hm",
   "name": "Copy of gp_notebook.ipynb",
   "provenance": []
  },
  "kernelspec": {
   "display_name": "Python 3",
   "language": "python",
   "name": "python3"
  },
  "language_info": {
   "codemirror_mode": {
    "name": "ipython",
    "version": 3
   },
   "file_extension": ".py",
   "mimetype": "text/x-python",
   "name": "python",
   "nbconvert_exporter": "python",
   "pygments_lexer": "ipython3",
   "version": "3.8.10"
  }
 },
 "nbformat": 4,
 "nbformat_minor": 1
}
