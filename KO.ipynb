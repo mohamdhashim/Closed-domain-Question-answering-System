{
 "cells": [
  {
   "cell_type": "code",
   "execution_count": 233,
   "id": "77e238d5",
   "metadata": {},
   "outputs": [],
   "source": [
    "from transformers import AutoTokenizer, AutoModel\n",
    "from sklearn.metrics.pairwise import cosine_similarity\n",
    "import torch\n",
    "import pandas as pd"
   ]
  },
  {
   "cell_type": "code",
   "execution_count": 3,
   "id": "5f5a7eae",
   "metadata": {},
   "outputs": [],
   "source": [
    "data = pd.read_pickle('data/dataset.pkl')"
   ]
  },
  {
   "cell_type": "code",
   "execution_count": 234,
   "id": "85f6aa54",
   "metadata": {},
   "outputs": [
    {
     "ename": "NameError",
     "evalue": "name 'data' is not defined",
     "output_type": "error",
     "traceback": [
      "\u001b[0;31m---------------------------------------------------------------------------\u001b[0m",
      "\u001b[0;31mNameError\u001b[0m                                 Traceback (most recent call last)",
      "\u001b[0;32m<ipython-input-234-b015b10afe2d>\u001b[0m in \u001b[0;36m<module>\u001b[0;34m\u001b[0m\n\u001b[0;32m----> 1\u001b[0;31m \u001b[0mques\u001b[0m \u001b[0;34m=\u001b[0m \u001b[0mdata\u001b[0m\u001b[0;34m.\u001b[0m\u001b[0mpop\u001b[0m\u001b[0;34m(\u001b[0m\u001b[0;34m'ques'\u001b[0m\u001b[0;34m)\u001b[0m\u001b[0;34m\u001b[0m\u001b[0;34m\u001b[0m\u001b[0m\n\u001b[0m\u001b[1;32m      2\u001b[0m \u001b[0;31m#data.drop(['ans_id','ans'],axis=1)\u001b[0m\u001b[0;34m\u001b[0m\u001b[0;34m\u001b[0m\u001b[0;34m\u001b[0m\u001b[0m\n",
      "\u001b[0;31mNameError\u001b[0m: name 'data' is not defined"
     ]
    }
   ],
   "source": [
    "ques = data.pop('ques')\n",
    "#data.drop(['ans_id','ans'],axis=1)"
   ]
  },
  {
   "cell_type": "code",
   "execution_count": 235,
   "id": "ac592a76",
   "metadata": {},
   "outputs": [],
   "source": [
    "ques = [\n",
    "    \"Three years later, the coffin was still full of Jello.\",\n",
    "    \"The fish dreamed of escaping the fishbowl and into the toilet where he saw his friend go.\",\n",
    "    \"The person box was packed with jelly many dozens of months later.\",\n",
    "    \"He found a leprechaun in his walnut shell.\"\n",
    "    ,\"oh man some years later, it was covered Jello.\"\n",
    "]"
   ]
  },
  {
   "cell_type": "code",
   "execution_count": 254,
   "id": "6f6106a4",
   "metadata": {},
   "outputs": [
    {
     "name": "stdout",
     "output_type": "stream",
     "text": [
      "10.777753353118896\n"
     ]
    }
   ],
   "source": [
    "import time\n",
    "\n",
    "# starting time\n",
    "start = time.time()\n",
    "\n",
    "tokenizer = AutoTokenizer.from_pretrained('Models/BERTOverflow')\n",
    "model = AutoModel.from_pretrained('Models/BERTOverflow')\n",
    "\n",
    "tokens = {'input_ids': [], 'attention_mask': []}\n",
    "\n",
    "for q in ques:\n",
    "    new_tokens = tokenizer.encode_plus(q, max_length=128\n",
    "                                       , truncation = True\n",
    "                                       , padding = 'max_length'\n",
    "                                       , return_tensors ='pt')#pt:pytorch\n",
    "    \n",
    "    tokens['input_ids'].append(new_tokens['input_ids'][0])\n",
    "    tokens['attention_mask'].append(new_tokens['attention_mask'][0])\n",
    "    \n",
    "tokens['input_ids'] = torch.stack(tokens['input_ids'])\n",
    "tokens['attention_mask'] = torch.stack(tokens['attention_mask'])\n",
    "print(time.time()-start)"
   ]
  },
  {
   "cell_type": "code",
   "execution_count": 243,
   "id": "492da782",
   "metadata": {},
   "outputs": [],
   "source": [
    "outputs = model(**tokens)\n",
    "embeddings = outputs.last_hidden_state"
   ]
  },
  {
   "cell_type": "code",
   "execution_count": 244,
   "id": "f9f185dc",
   "metadata": {},
   "outputs": [
    {
     "data": {
      "text/plain": [
       "torch.Size([5, 128])"
      ]
     },
     "execution_count": 244,
     "metadata": {},
     "output_type": "execute_result"
    }
   ],
   "source": [
    "attention_mask = tokens['attention_mask']\n",
    "attention_mask.shape "
   ]
  },
  {
   "cell_type": "code",
   "execution_count": 245,
   "id": "59d86859",
   "metadata": {},
   "outputs": [],
   "source": [
    "attention_mask = attention_mask.unsqueeze(-1) #add 3rd demension to it\n",
    "mask=attention_mask.expand(embeddings.shape).float()  #to\" expand demension to be like embeddings shape"
   ]
  },
  {
   "cell_type": "code",
   "execution_count": 246,
   "id": "fcf1bfce",
   "metadata": {},
   "outputs": [],
   "source": [
    "masked_embeddings = embeddings * mask #remove all masked tokens"
   ]
  },
  {
   "cell_type": "code",
   "execution_count": 247,
   "id": "4f6a2f2c",
   "metadata": {},
   "outputs": [
    {
     "data": {
      "text/plain": [
       "torch.Size([5, 768])"
      ]
     },
     "execution_count": 247,
     "metadata": {},
     "output_type": "execute_result"
    }
   ],
   "source": [
    "summed = torch.sum(masked_embeddings, 1)# 1 here for deminsion want to sum it\n",
    "summed.shape"
   ]
  },
  {
   "cell_type": "code",
   "execution_count": 248,
   "id": "5fcde6d2",
   "metadata": {},
   "outputs": [
    {
     "data": {
      "text/plain": [
       "torch.Size([5, 1])"
      ]
     },
     "execution_count": 248,
     "metadata": {},
     "output_type": "execute_result"
    }
   ],
   "source": [
    "counts = torch.clamp(attention_mask.sum(1), min = 1e-9)\n",
    "counts.shape"
   ]
  },
  {
   "cell_type": "code",
   "execution_count": 249,
   "id": "43b5f218",
   "metadata": {},
   "outputs": [
    {
     "data": {
      "text/plain": [
       "torch.Size([5, 768])"
      ]
     },
     "execution_count": 249,
     "metadata": {},
     "output_type": "execute_result"
    }
   ],
   "source": [
    "mean_pooled = summed / counts\n",
    "mean_pooled.shape"
   ]
  },
  {
   "cell_type": "code",
   "execution_count": 250,
   "id": "dff8af81",
   "metadata": {},
   "outputs": [
    {
     "data": {
      "text/plain": [
       "tensor([[ 0.1302,  0.3271,  0.4505,  ...,  0.5498, -0.0169,  0.3294],\n",
       "        [ 0.1905,  0.5644,  0.5213,  ...,  0.8872, -0.0855,  0.2673],\n",
       "        [ 0.2372,  0.1939,  0.3518,  ...,  1.0909,  0.0673,  0.1922],\n",
       "        [ 0.2335,  0.3786,  0.5990,  ...,  0.9654, -0.1522,  0.5955],\n",
       "        [ 0.2979,  0.1022,  0.3277,  ...,  0.7758, -0.0238,  0.2613]],\n",
       "       grad_fn=<DivBackward0>)"
      ]
     },
     "execution_count": 250,
     "metadata": {},
     "output_type": "execute_result"
    }
   ],
   "source": [
    "mean_pooled"
   ]
  },
  {
   "cell_type": "code",
   "execution_count": 251,
   "id": "9531aa4f",
   "metadata": {},
   "outputs": [
    {
     "data": {
      "text/plain": [
       "array([[0.96365964, 0.95818937, 0.9498954 , 0.973516  ]], dtype=float32)"
      ]
     },
     "execution_count": 251,
     "metadata": {},
     "output_type": "execute_result"
    }
   ],
   "source": [
    "mean_pooled = mean_pooled.detach().numpy()\n",
    "cosine_similarity(\n",
    "    [mean_pooled[0]],mean_pooled[1:]\n",
    ") "
   ]
  },
  {
   "cell_type": "code",
   "execution_count": 252,
   "id": "e479d7bc",
   "metadata": {},
   "outputs": [
    {
     "data": {
      "text/plain": [
       "0"
      ]
     },
     "execution_count": 252,
     "metadata": {},
     "output_type": "execute_result"
    }
   ],
   "source": [
    "0"
   ]
  },
  {
   "cell_type": "code",
   "execution_count": null,
   "id": "bd62af01",
   "metadata": {},
   "outputs": [],
   "source": []
  },
  {
   "cell_type": "code",
   "execution_count": null,
   "id": "dd89950f",
   "metadata": {},
   "outputs": [],
   "source": []
  },
  {
   "cell_type": "code",
   "execution_count": null,
   "id": "80ce1087",
   "metadata": {},
   "outputs": [],
   "source": []
  },
  {
   "cell_type": "code",
   "execution_count": null,
   "id": "41339405",
   "metadata": {},
   "outputs": [],
   "source": []
  },
  {
   "cell_type": "code",
   "execution_count": null,
   "id": "3a2210d3",
   "metadata": {},
   "outputs": [],
   "source": []
  }
 ],
 "metadata": {
  "kernelspec": {
   "display_name": "Python 3",
   "language": "python",
   "name": "python3"
  },
  "language_info": {
   "codemirror_mode": {
    "name": "ipython",
    "version": 3
   },
   "file_extension": ".py",
   "mimetype": "text/x-python",
   "name": "python",
   "nbconvert_exporter": "python",
   "pygments_lexer": "ipython3",
   "version": "3.8.10"
  }
 },
 "nbformat": 4,
 "nbformat_minor": 5
}
