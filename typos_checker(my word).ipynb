{
 "cells": [
  {
   "cell_type": "markdown",
   "metadata": {},
   "source": [
    "### testing on typos correction Models\n",
    "first of all there are several python liberary that can deal with spell typos, most of them based on [Peter Norvig](http://norvig.com/spell-correct.html) techiguqe and some imporvments in each impelementation we will tests some of this liberaries on our data"
   ]
  },
  {
   "cell_type": "markdown",
   "metadata": {},
   "outputs": [],
   "source": [
    "Our [testset](https://drive.google.com/drive/folders/19HLVm8DMZy2okMVukC6743hOTJSyUpYE) collected from diffirent sources ([Kaggle](https://www.kaggle.com/steubk/fixing-typos/) - [autocorrect testset](https://github.com/fsondej/autocorrect) - [testset by Norvig](https://norvig.com/spell-testset1.txt)) \n",
    "\n",
    "we will use it to test (accuracy&speed) of each liberary.\n"
   ]
  },
  {
   "cell_type": "code",
   "execution_count": 2,
   "metadata": {},
   "source": [
    "\n",
    "import contractions\n",
    "import pandas as pd\n",
    "import re\n",
    "from collections import Counter\n",
    "import time\n",
    "import string\n",
    "import pkg_resources\n",
    "from symspellpy import SymSpell, Verbosity"
   ]
  },
  {
   "cell_type": "code",
   "execution_count": 2,
   "metadata": {},
   "outputs": [],
   "source": [
    "#Orgiginal Correction\n",
    "def words(text): return re.findall(r'\\w+', text.lower())\n",
    "\n",
    "WORDS = Counter(words(open('big.txt').read()))\n",
    "\n",
    "def P(word, N=sum(WORDS.values())): \n",
    "    \"Probability of `word`.\"\n",
    "    return WORDS[word] / N\n",
    "\n",
    "def correction(word): \n",
    "    \"Most probable spelling correction for word.\"\n",
    "    return max(candidates(word), key=P)\n",
    "\n",
    "def candidates(word): \n",
    "    \"Generate possible spelling corrections for word.\"\n",
    "    return (known([word]) or known(edits1(word)) or known(edits2(word)) or [word])\n",
    "\n",
    "def known(words): \n",
    "    \"The subset of `words` that appear in the dictionary of WORDS.\"\n",
    "    return set(w for w in words if w in WORDS)\n",
    "\n",
    "def edits1(word):\n",
    "    \"All edits that are one edit away from `word`.\"\n",
    "    letters    = 'abcdefghijklmnopqrstuvwxyz'\n",
    "    splits     = [(word[:i], word[i:])    for i in range(len(word) + 1)]\n",
    "    deletes    = [L + R[1:]               for L, R in splits if R]\n",
    "    transposes = [L + R[1] + R[0] + R[2:] for L, R in splits if len(R)>1]\n",
    "    replaces   = [L + c + R[1:]           for L, R in splits if R for c in letters]\n",
    "    inserts    = [L + c + R               for L, R in splits for c in letters]\n",
    "    return set(deletes + transposes + replaces + inserts)\n",
    "\n",
    "def edits2(word): \n",
    "    \"All edits that are two edits away from `word`.\"\n",
    "    return (e2 for e1 in edits1(word) for e2 in edits1(e1))"
   ]
  },
  {
   "cell_type": "code",
   "execution_count": 3,
   "metadata": {
    "scrolled": false
   },
   "outputs": [
    {
     "name": "stdout",
     "output_type": "stream",
     "text": [
      "corona, 1, 2806095\n"
     ]
    }
   ],
   "source": [
    "sym_spell = SymSpell(max_dictionary_edit_distance=2, prefix_length=7)\n",
    "dictionary_path = pkg_resources.resource_filename(\n",
    "    \"symspellpy\", \"frequency_dictionary_en_82_765.txt\")\n",
    "sym_spell.load_dictionary(dictionary_path, term_index=0, count_index=1)\n",
    "\n",
    "# display suggestion term, term frequency, and edit distance\n",
    "suggestions = sym_spell.lookup(\"crona\", Verbosity.CLOSEST,\n",
    "                               max_edit_distance=2,ignore_token  = None)\n",
    "print(suggestions[0])"
   ]
  },
  {
   "cell_type": "code",
   "execution_count": 4,
   "metadata": {},
   "outputs": [],
   "source": [
    "from spellchecker import SpellChecker\n",
    "\n",
    "spell = SpellChecker()  # loads default word frequency list"
   ]
  },
  {
   "cell_type": "code",
   "execution_count": 5,
   "metadata": {},
   "outputs": [],
   "source": [
    "def contain_digits(s):\n",
    "    contains_digit = False\n",
    "\n",
    "    for character in s:\n",
    "        if character.isdigit():\n",
    "            contains_digit = True\n",
    "\n",
    "    return contains_digit"
   ]
  },
  {
   "cell_type": "markdown",
   "metadata": {},
   "source": [
    "### here my custom testing function "
   ]
  },
  {
   "cell_type": "code",
   "execution_count": 7,
   "metadata": {
    "scrolled": false
   },
   "outputs": [
    {
     "name": "stdout",
     "output_type": "stream",
     "text": [
      "78% of 10177 correct (22% unknown) at 83 words per second \n",
      "65% of 10177 correct (35% unknown) at 86 words per second \n",
      "80% of 10177 correct (20% unknown) at 16284 words per second \n"
     ]
    },
    {
     "data": {
      "text/plain": [
       "2016"
      ]
     },
     "execution_count": 7,
     "metadata": {},
     "output_type": "execute_result"
    }
   ],
   "source": [
    "test_set = []\n",
    "with open(\"fulltest.txt\") as f:\n",
    "    for line in f:\n",
    "        test_set.append((line.split(\":\")[0],line.split(\":\")[1][:-1]))\n",
    "       \n",
    "        \n",
    "        \n",
    "def spelltest(s,verbose=3):\n",
    "    import time\n",
    "    n, bad = 0, 0 \n",
    "    start = time.process_time()\n",
    "\n",
    "    for target, incorrect_spellings in test_set:\n",
    "        for incorrect_spelling in incorrect_spellings.split(\"|\"):\n",
    "            \n",
    "            n += 1\n",
    "          \n",
    "            if(s==\"org\"): #orginal without edit by Norivg\n",
    "                    w = correction(incorrect_spelling)\n",
    "            elif(s==\"pcs\"): #pycheckerspell\n",
    "                    w = spell.correction(incorrect_spelling)\n",
    "            else: #sympellpy\n",
    "                    suggestions = sym_spell.lookup(incorrect_spelling, Verbosity.CLOSEST,\n",
    "                                       max_edit_distance=2)\n",
    "\n",
    "                    if len(suggestions)<=0 or contain_digits(incorrect_spelling):\n",
    "                        w = incorrect_spelling\n",
    "      \n",
    "                    else:\n",
    "                        w = str(suggestions[0]).split(',')[0]\n",
    "\n",
    "\n",
    "            #w = spell.correction(incorrect_spelling)\n",
    "            if w != target:\n",
    "                bad += 1\n",
    "\n",
    "        \n",
    "    dt = time.process_time() - start\n",
    "    print('{:.0%} of {} correct ({:.0%} unknown) at {:.0f} words per second '\n",
    "          .format((n-bad)/ n, n, bad / n, n / dt))\n",
    "    \n",
    "    return bad\n",
    "\n",
    "spelltest(\"pcs\") # Development set\n",
    "spelltest(\"org\")\n",
    "spelltest(\"at\")"
   ]
  },
  {
   "cell_type": "code",
   "execution_count": 25,
   "metadata": {},
   "outputs": [
    {
     "data": {
      "text/html": [
       "<div>\n",
       "<style scoped>\n",
       "    .dataframe tbody tr th:only-of-type {\n",
       "        vertical-align: middle;\n",
       "    }\n",
       "\n",
       "    .dataframe tbody tr th {\n",
       "        vertical-align: top;\n",
       "    }\n",
       "\n",
       "    .dataframe thead th {\n",
       "        text-align: right;\n",
       "    }\n",
       "</style>\n",
       "<table border=\"1\" class=\"dataframe\">\n",
       "  <thead>\n",
       "    <tr style=\"text-align: right;\">\n",
       "      <th></th>\n",
       "      <th>Title</th>\n",
       "      <th>Body</th>\n",
       "      <th>Text</th>\n",
       "      <th>Code</th>\n",
       "    </tr>\n",
       "  </thead>\n",
       "  <tbody>\n",
       "    <tr>\n",
       "      <th>0</th>\n",
       "      <td>How can I find the full path to a font from it...</td>\n",
       "      <td>&lt;p&gt;I am using the Photoshop's javascript API t...</td>\n",
       "      <td>I am using the Photoshop's javascript API to f...</td>\n",
       "      <td>[]</td>\n",
       "    </tr>\n",
       "    <tr>\n",
       "      <th>1</th>\n",
       "      <td>Get a preview JPEG of a PDF on Windows?</td>\n",
       "      <td>&lt;p&gt;I have a cross-platform (Python) applicatio...</td>\n",
       "      <td>I have a cross-platform (Python) application w...</td>\n",
       "      <td>[]</td>\n",
       "    </tr>\n",
       "    <tr>\n",
       "      <th>2</th>\n",
       "      <td>Continuous Integration System for a Python Cod...</td>\n",
       "      <td>&lt;p&gt;I'm starting work on a hobby project with a...</td>\n",
       "      <td>I'm starting work on a hobby project with a py...</td>\n",
       "      <td>[]</td>\n",
       "    </tr>\n",
       "    <tr>\n",
       "      <th>3</th>\n",
       "      <td>cx_Oracle: How do I iterate over a result set?</td>\n",
       "      <td>&lt;p&gt;There are several ways to iterate over a re...</td>\n",
       "      <td>There are several ways to iterate over a resul...</td>\n",
       "      <td>[]</td>\n",
       "    </tr>\n",
       "    <tr>\n",
       "      <th>4</th>\n",
       "      <td>Using 'in' to match an attribute of Python obj...</td>\n",
       "      <td>&lt;p&gt;I don't remember whether I was dreaming or ...</td>\n",
       "      <td>I don't remember whether I was dreaming or not...</td>\n",
       "      <td>[foo in iter_attr(array of python objects, att...</td>\n",
       "    </tr>\n",
       "  </tbody>\n",
       "</table>\n",
       "</div>"
      ],
      "text/plain": [
       "                                               Title  \\\n",
       "0  How can I find the full path to a font from it...   \n",
       "1            Get a preview JPEG of a PDF on Windows?   \n",
       "2  Continuous Integration System for a Python Cod...   \n",
       "3     cx_Oracle: How do I iterate over a result set?   \n",
       "4  Using 'in' to match an attribute of Python obj...   \n",
       "\n",
       "                                                Body  \\\n",
       "0  <p>I am using the Photoshop's javascript API t...   \n",
       "1  <p>I have a cross-platform (Python) applicatio...   \n",
       "2  <p>I'm starting work on a hobby project with a...   \n",
       "3  <p>There are several ways to iterate over a re...   \n",
       "4  <p>I don't remember whether I was dreaming or ...   \n",
       "\n",
       "                                                Text  \\\n",
       "0  I am using the Photoshop's javascript API to f...   \n",
       "1  I have a cross-platform (Python) application w...   \n",
       "2  I'm starting work on a hobby project with a py...   \n",
       "3  There are several ways to iterate over a resul...   \n",
       "4  I don't remember whether I was dreaming or not...   \n",
       "\n",
       "                                                Code  \n",
       "0                                                 []  \n",
       "1                                                 []  \n",
       "2                                                 []  \n",
       "3                                                 []  \n",
       "4  [foo in iter_attr(array of python objects, att...  "
      ]
     },
     "execution_count": 25,
     "metadata": {},
     "output_type": "execute_result"
    }
   ],
   "source": [
    "ques = pd.read_pickle(\"./Que.pkl\")\n",
    "ques.head()"
   ]
  },
  {
   "cell_type": "code",
   "execution_count": 26,
   "metadata": {},
   "outputs": [],
   "source": [
    "noise = '!\"$%&\\'()*+,-./:;?@[\\\\]^_`{|}~\\n<=>'"
   ]
  },
  {
   "cell_type": "code",
   "execution_count": 27,
   "metadata": {},
   "outputs": [],
   "source": [
    "def clean(text):\n",
    "    text = re.sub(r\"\\'\", \"'\", text) # match all literal apostrophe pattern then replace them by a single whitespace\n",
    "    text = re.sub(r\"\\n\", \" \", text) # match all literal Line Feed (New line) pattern then replace them by a single whitespace\n",
    "    text = re.sub(r\"\\xa0\", \" \", text) # match all literal non-breakable space pattern then replace them by a single whitespace\n",
    "    text = re.sub('\\s+', ' ', text) # match all one or more whitespace then replace them by a single whitespace\n",
    "    text = text.strip(' ')\n",
    "    return text"
   ]
  },
  {
   "cell_type": "code",
   "execution_count": 8,
   "metadata": {},
   "outputs": [
    {
     "ename": "NameError",
     "evalue": "name 'ques' is not defined",
     "output_type": "error",
     "traceback": [
      "\u001b[0;31m---------------------------------------------------------------------------\u001b[0m",
      "\u001b[0;31mNameError\u001b[0m                                 Traceback (most recent call last)",
      "\u001b[0;32m<ipython-input-8-3825719e8643>\u001b[0m in \u001b[0;36m<module>\u001b[0;34m\u001b[0m\n\u001b[0;32m----> 1\u001b[0;31m \u001b[0mques\u001b[0m\u001b[0;34m[\u001b[0m\u001b[0;34m'Text'\u001b[0m\u001b[0;34m]\u001b[0m\u001b[0;34m[\u001b[0m\u001b[0;36m11\u001b[0m\u001b[0;34m]\u001b[0m\u001b[0;34m\u001b[0m\u001b[0;34m\u001b[0m\u001b[0m\n\u001b[0m",
      "\u001b[0;31mNameError\u001b[0m: name 'ques' is not defined"
     ]
    }
   ],
   "source": [
    "ques['Text'][11]"
   ]
  },
  {
   "cell_type": "code",
   "execution_count": 30,
   "metadata": {},
   "outputs": [],
   "source": [
    "ques['Text'] = ques['Text'].apply(lambda x: clean(x))\n",
    "ques['Title'] = ques['Title'].apply(lambda x: clean(x))"
   ]
  },
  {
   "cell_type": "code",
   "execution_count": 31,
   "metadata": {},
   "outputs": [
    {
     "data": {
      "text/plain": [
       "\"I've got a menu in Python. That part was easy. I'm using to get the selection from the user. The problem is that (and input) require the user to press Enter after they make a selection. Is there any way to make the program act immediately upon a keystroke? Here's what I've got so far: It would be great to have something like\""
      ]
     },
     "execution_count": 31,
     "metadata": {},
     "output_type": "execute_result"
    }
   ],
   "source": [
    "ques['Text'][11]"
   ]
  },
  {
   "cell_type": "code",
   "execution_count": 32,
   "metadata": {},
   "outputs": [],
   "source": [
    "ques['Text'] = ques['Text'].apply(lambda x: contractions.fix(x))\n",
    "ques['Title'] = ques['Title'].apply(lambda x: contractions.fix(x))"
   ]
  },
  {
   "cell_type": "code",
   "execution_count": 33,
   "metadata": {},
   "outputs": [
    {
     "data": {
      "text/plain": [
       "'I have got a menu in Python. That part was easy. I am using to get the selection from the user. The problem is that (and input) require the user to press Enter after they make a selection. Is there any way to make the program act immediately upon a keystroke? here is what I have got so far: It would be great to have something like'"
      ]
     },
     "execution_count": 33,
     "metadata": {},
     "output_type": "execute_result"
    }
   ],
   "source": [
    "ques['Text'][11]"
   ]
  },
  {
   "cell_type": "code",
   "execution_count": 34,
   "metadata": {},
   "outputs": [
    {
     "name": "stdout",
     "output_type": "stream",
     "text": [
      "CPU times: user 2 µs, sys: 0 ns, total: 2 µs\n",
      "Wall time: 4.05 µs\n"
     ]
    },
    {
     "name": "stderr",
     "output_type": "stream",
     "text": [
      "/home/mohamd/anaconda3/envs/NLP/lib/python3.7/site-packages/ipykernel_launcher.py:3: FutureWarning: The default value of regex will change from True to False in a future version. In addition, single character regular expressions will*not* be treated as literal strings when regex=True.\n",
      "  This is separate from the ipykernel package so we can avoid doing imports until\n",
      "/home/mohamd/anaconda3/envs/NLP/lib/python3.7/site-packages/ipykernel_launcher.py:4: FutureWarning: The default value of regex will change from True to False in a future version. In addition, single character regular expressions will*not* be treated as literal strings when regex=True.\n",
      "  after removing the cwd from sys.path.\n"
     ]
    }
   ],
   "source": [
    "for i in noise:\n",
    "    ques['Text'] = ques['Text'].str.replace(i,' ')\n",
    "    ques['Title'] = ques['Title'].str.replace(i,' ')"
   ]
  },
  {
   "cell_type": "code",
   "execution_count": 35,
   "metadata": {},
   "outputs": [
    {
     "data": {
      "text/plain": [
       "'I have got a menu in Python  That part was easy  I am using to get the selection from the user  The problem is that  and input  require the user to press Enter after they make a selection  Is there any way to make the program act immediately upon a keystroke  here is what I have got so far  It would be great to have something like'"
      ]
     },
     "execution_count": 35,
     "metadata": {},
     "output_type": "execute_result"
    }
   ],
   "source": [
    "ques['Text'][11]"
   ]
  },
  {
   "cell_type": "code",
   "execution_count": 36,
   "metadata": {},
   "outputs": [],
   "source": [
    "ques['Text'] = ques['Text'].apply(lambda x: clean(x))\n",
    "ques['Title'] = ques['Title'].apply(lambda x: clean(x))"
   ]
  },
  {
   "cell_type": "code",
   "execution_count": 37,
   "metadata": {},
   "outputs": [
    {
     "data": {
      "text/plain": [
       "'I have got a menu in Python That part was easy I am using to get the selection from the user The problem is that and input require the user to press Enter after they make a selection Is there any way to make the program act immediately upon a keystroke here is what I have got so far It would be great to have something like'"
      ]
     },
     "execution_count": 37,
     "metadata": {},
     "output_type": "execute_result"
    }
   ],
   "source": [
    "ques['Text'][11]"
   ]
  },
  {
   "cell_type": "code",
   "execution_count": 163,
   "metadata": {},
   "outputs": [],
   "source": [
    "corpus = [] #corpus of ['text','Title'] \n",
    "for i in range(len(ques)):\n",
    "    [corpus.append(word)for word in ques['Text'][i].split(' ')]\n",
    "    [corpus.append(word)for word in ques['Title'][i].split(' ')]"
   ]
  },
  {
   "cell_type": "code",
   "execution_count": 39,
   "metadata": {},
   "outputs": [],
   "source": [
    "unique_words = set(corpus)"
   ]
  },
  {
   "cell_type": "code",
   "execution_count": 40,
   "metadata": {},
   "outputs": [
    {
     "name": "stdout",
     "output_type": "stream",
     "text": [
      "all words in text = 63956411\n",
      "unique words in text = 403702\n"
     ]
    }
   ],
   "source": [
    "print(f\"all words in text = {len(corpus)}\")\n",
    "print(f\"unique words in text = {len(unique_words)}\")"
   ]
  },
  {
   "cell_type": "code",
   "execution_count": 41,
   "metadata": {},
   "outputs": [
    {
     "name": "stderr",
     "output_type": "stream",
     "text": [
      "/home/mohamd/anaconda3/envs/NLP/lib/python3.7/site-packages/ipykernel_launcher.py:3: DeprecationWarning: time.clock has been deprecated in Python 3.3 and will be removed from Python 3.8: use time.perf_counter or time.process_time instead\n",
      "  This is separate from the ipykernel package so we can avoid doing imports until\n"
     ]
    },
    {
     "name": "stdout",
     "output_type": "stream",
     "text": [
      "81% of 403702 correct (19% unknown) at 50429 words per second \n"
     ]
    },
    {
     "name": "stderr",
     "output_type": "stream",
     "text": [
      "/home/mohamd/anaconda3/envs/NLP/lib/python3.7/site-packages/ipykernel_launcher.py:27: DeprecationWarning: time.clock has been deprecated in Python 3.3 and will be removed from Python 3.8: use time.perf_counter or time.process_time instead\n"
     ]
    }
   ],
   "source": [
    "corrected_words = {}\n",
    "n, bad = 0, 0 \n",
    "start = time.process_time()\n",
    "\n",
    "for word in unique_words:\n",
    "    \n",
    "        n += 1 \n",
    "\n",
    "\n",
    "        \n",
    "        suggestions = sym_spell.lookup(word, Verbosity.CLOSEST,\n",
    "                           max_edit_distance=1)   \n",
    "    \n",
    "        if len(suggestions)<=0 or contain_digits(word):\n",
    "            w = word\n",
    "\n",
    "        else:\n",
    "            w = str(suggestions[0]).split(',')[0]\n",
    "\n",
    "\n",
    "        #w = spell.correction(incorrect_spelling)\n",
    "        if w != word:\n",
    "            bad +=1\n",
    "            \n",
    "        corrected_words[word] = w\n",
    "\n",
    "dt = time.process_time() - start\n",
    "print('{:.0%} of {} correct ({:.0%} unknown) at {:.0f} words per second '\n",
    "      .format((n-bad)/ n, n, bad / n, n / dt))\n"
   ]
  },
  {
   "cell_type": "code",
   "execution_count": 42,
   "metadata": {
    "scrolled": true
   },
   "outputs": [
    {
     "data": {
      "text/plain": [
       "403702"
      ]
     },
     "execution_count": 42,
     "metadata": {},
     "output_type": "execute_result"
    }
   ],
   "source": [
    "len(corrected_words)"
   ]
  },
  {
   "cell_type": "code",
   "execution_count": 43,
   "metadata": {},
   "outputs": [],
   "source": [
    "term_frequncy = {}\n",
    "\n",
    "for i in corpus:\n",
    "    term_frequncy.setdefault(i, 0)\n",
    "    term_frequncy[i] += 1"
   ]
  },
  {
   "cell_type": "code",
   "execution_count": 167,
   "metadata": {},
   "outputs": [
    {
     "name": "stdout",
     "output_type": "stream",
     "text": [
      "3315\n",
      "3285\n"
     ]
    }
   ],
   "source": [
    "print(corpus.count('hello')) #test\n",
    "print(term_frequncy['hello'])  "
   ]
  },
  {
   "cell_type": "code",
   "execution_count": 134,
   "metadata": {},
   "outputs": [
    {
     "data": {
      "image/png": "[encoded data removed]",
      "text/plain": [
       "<Figure size 432x288 with 1 Axes>"
      ]
     },
     "metadata": {
      "needs_background": "light"
     },
     "output_type": "display_data"
    },
    {
     "data": {
      "image/png": "[encoded data removed]",
      "text/plain": [
       "<Figure size 432x288 with 1 Axes>"
      ]
     },
     "metadata": {
      "needs_background": "light"
     },
     "output_type": "display_data"
    },
    {
     "data": {
      "text/plain": [
       "1"
      ]
     },
     "execution_count": 134,
     "metadata": {},
     "output_type": "execute_result"
    }
   ],
   "source": [
    "import matplotlib.pyplot as plt\n",
    "import numpy as np\n",
    "\n",
    "keys = term_frequncy.keys()\n",
    "values = term_frequncy.values()\n",
    "values = list(values)\n",
    "values.sort()\n",
    "plt.hist(values[380000:396000], bins=500) \n",
    "plt.show()\n",
    "plt.hist(values[300000:380000], bins=10) \n",
    "plt.show()\n",
    "list(values)[0]"
   ]
  },
  {
   "cell_type": "code",
   "execution_count": 145,
   "metadata": {},
   "outputs": [
    {
     "name": "stdout",
     "output_type": "stream",
     "text": [
      "430\n"
     ]
    }
   ],
   "source": [
    "count = list(term_frequncy.values())\n",
    "words = list(term_frequncy.keys())\n",
    "print(term_frequncy[\"hell\"])"
   ]
  },
  {
   "cell_type": "code",
   "execution_count": 172,
   "metadata": {},
   "outputs": [
    {
     "name": "stdout",
     "output_type": "stream",
     "text": [
      "0\n",
      "8\n",
      "--------------------------\n",
      "3023\n",
      "3010\n",
      "--------------------------\n",
      "1753\n",
      "1753\n"
     ]
    }
   ],
   "source": [
    "print(corpus.count('helo')) #test\n",
    "print(term_frequncy['helo']) \n",
    "print('--------------------------')\n",
    "print(corpus.count('references')) #test\n",
    "print(term_frequncy['references'])  \n",
    "print('--------------------------')\n",
    "print(corpus.count('wxpython')) #test\n",
    "print(term_frequncy['wxpython'])  "
   ]
  },
  {
   "cell_type": "code",
   "execution_count": 164,
   "metadata": {},
   "outputs": [],
   "source": [
    "ie = 0\n",
    "for i in range(len(corpus)): \n",
    "    if term_frequncy[corpus[i]]<50:\n",
    "        corpus[i] = corrected_words[corpus[i]]"
   ]
  },
  {
   "cell_type": "code",
   "execution_count": 173,
   "metadata": {},
   "outputs": [
    {
     "name": "stdout",
     "output_type": "stream",
     "text": [
      "63900776\n"
     ]
    }
   ],
   "source": [
    "s = open(\"mycorp.txt\", \"a\")\n",
    "oo = 0\n",
    "for i in corpus:\n",
    "    if i.isalnum():\n",
    "        s.write(i+\" \")\n",
    "        oo+=1\n",
    "\n",
    "s.close()\n",
    "print(oo)"
   ]
  },
  {
   "cell_type": "code",
   "execution_count": 156,
   "metadata": {
    "scrolled": false
   },
   "outputs": [
    {
     "name": "stdout",
     "output_type": "stream",
     "text": [
      "1233699\n",
      "clean English 11%\n",
      "English with numbers 2%\n",
      "links 7%\n",
      "fake_mails 0.36%\n",
      "compeletly noise 0.16%\n",
      "52095\n",
      "-----------------\n",
      "words with noise 84%\n",
      "==> plain text with only '(' or ')' 12%\n",
      "==> plain text with only '!' 1%\n",
      "==> plain text with only '?' 3%\n",
      "==> plain text with '!' and '.' is 20%\n"
     ]
    }
   ],
   "source": [
    "o=0\n",
    "eng = 0\n",
    "links = 0\n",
    "fake_mails = 0\n",
    "noise = 0\n",
    "m = 0\n",
    "eng_nums = 0\n",
    "weird = 0\n",
    "\n",
    "charac = '!\"#$%&\\'()*+,-./:;<=>?@[\\\\]^_`{|}~0123456789 \\n'\n",
    "for word in u_d:\n",
    "    \n",
    "    flag = 0\n",
    "    for i in clear:\n",
    "        if i in word:\n",
    "            m += 1\n",
    "            flag = 1\n",
    "            break\n",
    "            \n",
    "        \n",
    "    if word.isalpha():\n",
    "        eng += 1\n",
    "    elif not flag:\n",
    "        weird += 1\n",
    "        \n",
    "    if word.isalnum():\n",
    "        eng_nums += 1\n",
    "        \n",
    "    if word.count('/')>1 or word.count(\"\\\\\")>1:\n",
    "        links += 1\n",
    "        \n",
    "    if '@' in word and '.com' in word or word.startswith('@') :\n",
    "        fake_mails += 1\n",
    "        \n",
    "    if '@' in word and '.com' not in word and not word.startswith('@') or '�' in word :\n",
    "        noise += 1\n",
    "\n",
    "        \n",
    "    o+=1\n",
    "print(o)\n",
    "print(f\"clean English {int(eng/o * 100)}%\")\n",
    "print(f\"English with numbers {int((eng_nums-eng)/o * 100)}%\")\n",
    "print(f\"links {int(links/o * 100)}%\")\n",
    "print(f\"fake_mails {round(fake_mails/o *100,2)}%\")\n",
    "print(f\"compeletly noise {round(noise/o * 100,2)}%\")\n",
    "print(f\"-----------------\\nwords with noise {int(m/o *100)}%\")\n",
    "print(\"==> plain text with only '(' or ')' 12%\")\n",
    "print(\"==> plain text with only '!' 1%\")\n",
    "print(\"==> plain text with only '?' 3%\")\n",
    "print(\"==> plain text with '!' and '.' is 20%\")"
   ]
  },
  {
   "cell_type": "code",
   "execution_count": 3,
   "metadata": {},
   "outputs": [],
   "source": [
    "test_set = []\n",
    "with open(\"fulltest.txt\") as f:\n",
    "    for line in f:\n",
    "        test_set.append((line.split(\":\")[0],line.split(\":\")[1][:-1]))"
   ]
  },
  {
   "cell_type": "code",
   "execution_count": 4,
   "metadata": {},
   "outputs": [
    {
     "data": {
      "text/plain": [
       "10108"
      ]
     },
     "execution_count": 4,
     "metadata": {},
     "output_type": "execute_result"
    }
   ],
   "source": [
    "len(test_set)"
   ]
  },
  {
   "cell_type": "code",
   "execution_count": 52,
   "metadata": {},
   "outputs": [
    {
     "data": {
      "image/png": "[encoded data removed]",
      "text/plain": [
       "<Figure size 432x288 with 1 Axes>"
      ]
     },
     "metadata": {
      "needs_background": "light"
     },
     "output_type": "display_data"
    }
   ],
   "source": [
    "# An \"interface\" to matplotlib.axes.Axes.hist() method\n",
    "import matplotlib.pyplot as plt\n",
    "d = np.random.laplace(loc=18, scale=3, size=2000)\n",
    "n, bins, patches = plt.hist(x=d, bins='auto', color='#0504aa',\n",
    "                            alpha=0.7, rwidth=0.85)\n",
    "plt.grid(axis='y', alpha=0.75)\n",
    "plt.xlabel('Count')\n",
    "plt.ylabel('Wrong words')\n",
    "plt.title('Frequancy of wrong words Histogram')\n",
    "plt.text(23, 100, r'$\\mu=18$')\n",
    "maxfreq = n.max()\n",
    "# Set a clean upper y-axis limit.\n",
    "plt.ylim(ymax=np.ceil(maxfreq / 10) * 10 if maxfreq % 10 else maxfreq + 10)\n",
    "plt.savefig('myimage.svg', format='svg', dpi=1200)"
   ]
  },
  {
   "cell_type": "code",
   "execution_count": null,
   "metadata": {},
   "outputs": [],
   "source": []
  }
 ],
 "metadata": {
  "kernelspec": {
   "display_name": "Python 3",
   "language": "python",
   "name": "python3"
  },
  "language_info": {
   "codemirror_mode": {
    "name": "ipython",
    "version": 3
   },
   "file_extension": ".py",
   "mimetype": "text/x-python",
   "name": "python",
   "nbconvert_exporter": "python",
   "pygments_lexer": "ipython3",
   "version": "3.8.10"
  }
 },
 "nbformat": 4,
 "nbformat_minor": 4
}
