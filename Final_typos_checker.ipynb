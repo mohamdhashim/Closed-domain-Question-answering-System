{
 "cells": [
  {
   "cell_type": "markdown",
   "metadata": {},
   "source": [
    "### This notebook about making a dictionary of typos correction as OUTPUT to be used in the final cleaning of the data"
   ]
  },
  {
   "cell_type": "code",
   "execution_count": 2,
   "metadata": {},
   "outputs": [],
   "source": [
    "from bs4 import BeautifulSoup as bs #to clear HTML\n",
    "import contractions #to reveal conractions ex: I'll ==> I will\n",
    "import pandas as pd \n",
    "import re\n",
    "from collections import Counter\n",
    "import time # to calculate run time for each cell.\n",
    "import string \n",
    "import pkg_resources\n",
    "from symspellpy import SymSpell, Verbosity #to spell checking."
   ]
  },
  {
   "cell_type": "code",
   "execution_count": 3,
   "metadata": {},
   "outputs": [
    {
     "data": {
      "text/html": [
       "<div>\n",
       "<style scoped>\n",
       "    .dataframe tbody tr th:only-of-type {\n",
       "        vertical-align: middle;\n",
       "    }\n",
       "\n",
       "    .dataframe tbody tr th {\n",
       "        vertical-align: top;\n",
       "    }\n",
       "\n",
       "    .dataframe thead th {\n",
       "        text-align: right;\n",
       "    }\n",
       "</style>\n",
       "<table border=\"1\" class=\"dataframe\">\n",
       "  <thead>\n",
       "    <tr style=\"text-align: right;\">\n",
       "      <th></th>\n",
       "      <th>Title</th>\n",
       "      <th>Body</th>\n",
       "      <th>Text</th>\n",
       "      <th>Code</th>\n",
       "    </tr>\n",
       "  </thead>\n",
       "  <tbody>\n",
       "    <tr>\n",
       "      <th>0</th>\n",
       "      <td>How can I find the full path to a font from it...</td>\n",
       "      <td>&lt;p&gt;I am using the Photoshop's javascript API t...</td>\n",
       "      <td>I am using the Photoshop's javascript API to f...</td>\n",
       "      <td>[]</td>\n",
       "    </tr>\n",
       "    <tr>\n",
       "      <th>1</th>\n",
       "      <td>Get a preview JPEG of a PDF on Windows?</td>\n",
       "      <td>&lt;p&gt;I have a cross-platform (Python) applicatio...</td>\n",
       "      <td>I have a cross-platform (Python) application w...</td>\n",
       "      <td>[]</td>\n",
       "    </tr>\n",
       "    <tr>\n",
       "      <th>2</th>\n",
       "      <td>Continuous Integration System for a Python Cod...</td>\n",
       "      <td>&lt;p&gt;I'm starting work on a hobby project with a...</td>\n",
       "      <td>I'm starting work on a hobby project with a py...</td>\n",
       "      <td>[]</td>\n",
       "    </tr>\n",
       "    <tr>\n",
       "      <th>3</th>\n",
       "      <td>cx_Oracle: How do I iterate over a result set?</td>\n",
       "      <td>&lt;p&gt;There are several ways to iterate over a re...</td>\n",
       "      <td>There are several ways to iterate over a resul...</td>\n",
       "      <td>[]</td>\n",
       "    </tr>\n",
       "    <tr>\n",
       "      <th>4</th>\n",
       "      <td>Using 'in' to match an attribute of Python obj...</td>\n",
       "      <td>&lt;p&gt;I don't remember whether I was dreaming or ...</td>\n",
       "      <td>I don't remember whether I was dreaming or not...</td>\n",
       "      <td>[foo in iter_attr(array of python objects, att...</td>\n",
       "    </tr>\n",
       "  </tbody>\n",
       "</table>\n",
       "</div>"
      ],
      "text/plain": [
       "                                               Title  \\\n",
       "0  How can I find the full path to a font from it...   \n",
       "1            Get a preview JPEG of a PDF on Windows?   \n",
       "2  Continuous Integration System for a Python Cod...   \n",
       "3     cx_Oracle: How do I iterate over a result set?   \n",
       "4  Using 'in' to match an attribute of Python obj...   \n",
       "\n",
       "                                                Body  \\\n",
       "0  <p>I am using the Photoshop's javascript API t...   \n",
       "1  <p>I have a cross-platform (Python) applicatio...   \n",
       "2  <p>I'm starting work on a hobby project with a...   \n",
       "3  <p>There are several ways to iterate over a re...   \n",
       "4  <p>I don't remember whether I was dreaming or ...   \n",
       "\n",
       "                                                Text  \\\n",
       "0  I am using the Photoshop's javascript API to f...   \n",
       "1  I have a cross-platform (Python) application w...   \n",
       "2  I'm starting work on a hobby project with a py...   \n",
       "3  There are several ways to iterate over a resul...   \n",
       "4  I don't remember whether I was dreaming or not...   \n",
       "\n",
       "                                                Code  \n",
       "0                                                 []  \n",
       "1                                                 []  \n",
       "2                                                 []  \n",
       "3                                                 []  \n",
       "4  [foo in iter_attr(array of python objects, att...  "
      ]
     },
     "execution_count": 3,
     "metadata": {},
     "output_type": "execute_result"
    }
   ],
   "source": [
    "ques = pd.read_pickle(\"./Que.pkl\") #Questions Data befor & after cleaning it from HTML\n",
    "ques.head()"
   ]
  },
  {
   "cell_type": "code",
   "execution_count": 4,
   "metadata": {},
   "outputs": [],
   "source": [
    "#reveal conractions\n",
    "ques['Text'] = ques['Text'].apply(lambda x: contractions.fix(x))\n",
    "ques['Title'] = ques['Title'].apply(lambda x: contractions.fix(x))"
   ]
  },
  {
   "cell_type": "code",
   "execution_count": 5,
   "metadata": {},
   "outputs": [],
   "source": [
    "#removing expected noise in our Text.\n",
    "noise = '!\"$%&\\'()*+,-./:;?@[\\\\]^_`{|}~\\n<=>' \n",
    "for i in noise:\n",
    "    ques['Text'] = ques['Text'].str.replace(i,' ',regex=True)\n",
    "    ques['Title'] = ques['Title'].str.replace(i,' ',regex=True)"
   ]
  },
  {
   "cell_type": "code",
   "execution_count": 6,
   "metadata": {},
   "outputs": [],
   "source": [
    "#this fuction to clear data from extra spaces , new lines,....\n",
    "def clean(text):\n",
    "    text = re.sub(r\"\\'\", \"'\", text) # match all literal apostrophe pattern then replace them by a single whitespace\n",
    "    text = re.sub(r\"\\n\", \" \", text) # match all literal Line Feed (New line) pattern then replace them by a single whitespace\n",
    "    text = re.sub(r\"\\xa0\", \" \", text) # match all literal non-breakable space pattern then replace them by a single whitespace\n",
    "    text = re.sub('\\s+', ' ', text) # match all one or more whitespace then replace them by a single whitespace\n",
    "    text = text.strip(' ')\n",
    "    return text"
   ]
  },
  {
   "cell_type": "code",
   "execution_count": 7,
   "metadata": {},
   "outputs": [],
   "source": [
    "#apply clean() on our data frame\n",
    "ques['Text'] = ques['Text'].apply(lambda x: clean(x))\n",
    "ques['Title'] = ques['Title'].apply(lambda x: clean(x))"
   ]
  },
  {
   "cell_type": "code",
   "execution_count": 8,
   "metadata": {},
   "outputs": [
    {
     "data": {
      "text/plain": [
       "'I have got a menu in Python That part was easy I am using to get the selection from the user The problem is that and input require the user to press Enter after they make a selection Is there any way to make the program act immediately upon a keystroke here is what I have got so far It would be great to have something like'"
      ]
     },
     "execution_count": 8,
     "metadata": {},
     "output_type": "execute_result"
    }
   ],
   "source": [
    "ques['Text'][11] # data after full cleaning"
   ]
  },
  {
   "cell_type": "code",
   "execution_count": 9,
   "metadata": {},
   "outputs": [],
   "source": [
    "corpus = [] #corpus of text of ques['text','Title'] \n",
    "for i in range(len(ques)):\n",
    "    [corpus.append(word.lower())for word in ques['Text'][i].split(' ')]\n",
    "    [corpus.append(word.lower())for word in ques['Title'][i].split(' ')]"
   ]
  },
  {
   "cell_type": "code",
   "execution_count": 10,
   "metadata": {},
   "outputs": [],
   "source": [
    "unique_words = set(corpus) #using set to reduce runtime of checking typos process "
   ]
  },
  {
   "cell_type": "code",
   "execution_count": 11,
   "metadata": {},
   "outputs": [
    {
     "name": "stdout",
     "output_type": "stream",
     "text": [
      "all words in text = 63956411\n",
      "unique words in text = 331706\n"
     ]
    }
   ],
   "source": [
    "print(f\"all words in text = {len(corpus)}\")\n",
    "print(f\"unique words in text = {len(unique_words)}\")"
   ]
  },
  {
   "cell_type": "code",
   "execution_count": 12,
   "metadata": {},
   "outputs": [],
   "source": [
    "#to determine if the word is a common word in python or not. \n",
    "#if so we won't typo checking model will avoid it.\n",
    "\n",
    "term_frequncy = {}\n",
    "for i in corpus:\n",
    "    term_frequncy.setdefault(i, 0)\n",
    "    term_frequncy[i] += 1"
   ]
  },
  {
   "cell_type": "code",
   "execution_count": 13,
   "metadata": {},
   "outputs": [
    {
     "name": "stdout",
     "output_type": "stream",
     "text": [
      "6781\n",
      "6781\n"
     ]
    }
   ],
   "source": [
    "#test term Frequancy \n",
    "print(corpus.count('hello')) # \n",
    "print(term_frequncy['hello'])  "
   ]
  },
  {
   "cell_type": "code",
   "execution_count": 14,
   "metadata": {},
   "outputs": [
    {
     "name": "stdout",
     "output_type": "stream",
     "text": [
      "corona, 1, 2806095\n"
     ]
    }
   ],
   "source": [
    "# loading typo checking model and it's dictionary\n",
    "\n",
    "sym_spell = SymSpell(max_dictionary_edit_distance=2, prefix_length=7)\n",
    "dictionary_path = pkg_resources.resource_filename(\n",
    "    \"symspellpy\", \"frequency_dictionary_en_82_765.txt\")\n",
    "\n",
    "sym_spell.load_dictionary(dictionary_path, term_index=0, count_index=1)\n",
    "\n",
    "# test it by display suggestion term, term frequency, and edit distance\n",
    "suggestions = sym_spell.lookup(\"crona\", Verbosity.CLOSEST,\n",
    "                               max_edit_distance=2,ignore_token  = None)\n",
    "print(suggestions[0])"
   ]
  },
  {
   "cell_type": "code",
   "execution_count": 15,
   "metadata": {},
   "outputs": [],
   "source": [
    "#to check if the word contain numbers or not or if itself is a number \n",
    "#if so we won't typo checking model will avoid it.\n",
    "\n",
    "def contain_digits(s):\n",
    "    contains_digit = False\n",
    "\n",
    "    for character in s:\n",
    "        if character.isdigit():\n",
    "            contains_digit = True\n",
    "\n",
    "    return contains_digit"
   ]
  },
  {
   "cell_type": "code",
   "execution_count": 16,
   "metadata": {},
   "outputs": [
    {
     "name": "stdout",
     "output_type": "stream",
     "text": [
      "82% of 331706 correct (18% unknown) at 42601 words per second \n"
     ]
    }
   ],
   "source": [
    "corrected_words = {} #dictionary to store word and it's correction in unqiue_words.\n",
    "n, bad = 0, 0  #n is a number of words , bad is a number of wrong words\n",
    "start = time.process_time()\n",
    "\n",
    "for word in unique_words:\n",
    "    \n",
    "        n += 1 \n",
    "\n",
    "        suggestions = sym_spell.lookup(word, Verbosity.CLOSEST,\n",
    "                           max_edit_distance=1)   \n",
    "    \n",
    "        if len(suggestions)<=0 or contain_digits(word) or term_frequncy[word]>50:\n",
    "            w = word\n",
    "\n",
    "        else:\n",
    "            w = str(suggestions[0]).split(',')[0]\n",
    "\n",
    "\n",
    "        #w = spell.correction(incorrect_spelling)\n",
    "        if w != word:\n",
    "            bad +=1\n",
    "            \n",
    "        corrected_words[word] = w\n",
    "\n",
    "dt = time.process_time() - start\n",
    "print('{:.0%} of {} correct ({:.0%} unknown) at {:.0f} words per second '\n",
    "      .format((n-bad)/ n, n, bad / n, n / dt))\n"
   ]
  },
  {
   "cell_type": "code",
   "execution_count": 23,
   "metadata": {},
   "outputs": [
    {
     "data": {
      "text/plain": [
       "'hello'"
      ]
     },
     "execution_count": 23,
     "metadata": {},
     "output_type": "execute_result"
    }
   ],
   "source": [
    "corrected_words[\"ello\"]"
   ]
  },
  {
   "cell_type": "code",
   "execution_count": 1,
   "metadata": {},
   "outputs": [
    {
     "ename": "NameError",
     "evalue": "name 'corrected_words' is not defined",
     "output_type": "error",
     "traceback": [
      "\u001b[0;31m---------------------------------------------------------------------------\u001b[0m",
      "\u001b[0;31mNameError\u001b[0m                                 Traceback (most recent call last)",
      "\u001b[0;32m<ipython-input-1-1cad5fc1a74e>\u001b[0m in \u001b[0;36m<module>\u001b[0;34m\u001b[0m\n\u001b[1;32m      2\u001b[0m \u001b[0;32mimport\u001b[0m \u001b[0mpickle\u001b[0m\u001b[0;34m\u001b[0m\u001b[0;34m\u001b[0m\u001b[0m\n\u001b[1;32m      3\u001b[0m \u001b[0;32mwith\u001b[0m \u001b[0mopen\u001b[0m\u001b[0;34m(\u001b[0m\u001b[0;34m'corrected_words.pkl'\u001b[0m\u001b[0;34m,\u001b[0m \u001b[0;34m'wb'\u001b[0m\u001b[0;34m)\u001b[0m \u001b[0;32mas\u001b[0m \u001b[0mhandle\u001b[0m\u001b[0;34m:\u001b[0m\u001b[0;34m\u001b[0m\u001b[0;34m\u001b[0m\u001b[0m\n\u001b[0;32m----> 4\u001b[0;31m     \u001b[0mpickle\u001b[0m\u001b[0;34m.\u001b[0m\u001b[0mdump\u001b[0m\u001b[0;34m(\u001b[0m\u001b[0mcorrected_words\u001b[0m\u001b[0;34m,\u001b[0m \u001b[0mhandle\u001b[0m\u001b[0;34m,\u001b[0m \u001b[0mprotocol\u001b[0m\u001b[0;34m=\u001b[0m\u001b[0mpickle\u001b[0m\u001b[0;34m.\u001b[0m\u001b[0mHIGHEST_PROTOCOL\u001b[0m\u001b[0;34m)\u001b[0m\u001b[0;34m\u001b[0m\u001b[0;34m\u001b[0m\u001b[0m\n\u001b[0m\u001b[1;32m      5\u001b[0m \u001b[0;34m\u001b[0m\u001b[0m\n",
      "\u001b[0;31mNameError\u001b[0m: name 'corrected_words' is not defined"
     ]
    }
   ],
   "source": [
    "#saving dictionary to using it in further preprocessing\n",
    "import pickle\n",
    "with open('corrected_words.pkl', 'wb') as handle:\n",
    "    pickle.dump(corrected_words, handle, protocol=pickle.HIGHEST_PROTOCOL)\n",
    "\n"
   ]
  },
  {
   "cell_type": "code",
   "execution_count": null,
   "metadata": {},
   "outputs": [],
   "source": []
  }
 ],
 "metadata": {
  "kernelspec": {
   "display_name": "Python 3",
   "language": "python",
   "name": "python3"
  },
  "language_info": {
   "codemirror_mode": {
    "name": "ipython",
    "version": 3
   },
   "file_extension": ".py",
   "mimetype": "text/x-python",
   "name": "python",
   "nbconvert_exporter": "python",
   "pygments_lexer": "ipython3",
   "version": "3.8.10"
  }
 },
 "nbformat": 4,
 "nbformat_minor": 4
}
